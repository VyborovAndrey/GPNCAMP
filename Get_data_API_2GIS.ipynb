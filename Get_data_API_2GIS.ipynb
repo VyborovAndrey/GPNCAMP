{
 "cells": [
  {
   "cell_type": "code",
   "execution_count": 2,
   "metadata": {
    "id": "5xuhxa8o1tLy"
   },
   "outputs": [],
   "source": [
    "import requests\n",
    "import csv\n",
    "import pandas as pd\n",
    "import re\n",
    "\n",
    "from datetime import datetime\n",
    "from tqdm import tqdm\n",
    "import time\n",
    "import json\n",
    "import math"
   ]
  },
  {
   "cell_type": "code",
   "execution_count": 3,
   "metadata": {},
   "outputs": [],
   "source": [
    "import warnings\n",
    "warnings.filterwarnings(\"ignore\")"
   ]
  },
  {
   "cell_type": "code",
   "execution_count": 84,
   "metadata": {
    "id": "7c29TOYzVwKg"
   },
   "outputs": [],
   "source": [
    "# pip install folium"
   ]
  },
  {
   "cell_type": "markdown",
   "metadata": {
    "id": "1ZXiBwfu-RNL"
   },
   "source": [
    "### Получение данных через API"
   ]
  },
  {
   "cell_type": "markdown",
   "metadata": {
    "id": "X8eEcA1WYJIr"
   },
   "source": [
    "#### Формирование запроса API 2GIS\n",
    "[API 2GIS](https://docs.2gis.com/ru/api/search/places/overview)"
   ]
  },
  {
   "cell_type": "code",
   "execution_count": 180,
   "metadata": {
    "id": "XyUftN9Y1R2O"
   },
   "outputs": [],
   "source": [
    "API_KEY = \"API_KEY\"\n",
    "\n",
    "url = 'https://catalog.api.2gis.com/3.0/items'\n",
    "params = {\n",
    "    'key': API_KEY,\n",
    "    'q': 'рестораны',\n",
    "    'location': '30.373517,59.939079',  # Точка между офисами Дегтярный пер., д. 11Б и пер. Виленский, дом 14 литера А '\n",
    "    'radius': 2500,  # метры\n",
    "    'type': 'branch',  # branch — компания\n",
    "    'fields':\n",
    "    'items.point,items.address,items.adm_div,items.full_address_name,items.geometry.centroid,items.rubrics,items.org,items.contact_groups,items.schedule,items.access_comment,items.access,items.capacity,items.description,items.external_content,items.flags,items.floors,items.floor_plans,items.is_paid,items.for_trucks,items.paving_type,items.is_incentive,items.purpose,items.level_count,items.links,items.links.database_entrances.apartments_info,items.name_ex,items.reviews,items.statistics,context_rubrics,dym,filters,hash,items.ads.options,items.attribute_groups,items.context,items.dates.deleted_at,items.dates.updated_at,items.dates,items.geometry.style,items.group,items.metarubrics,items.delivery,items.has_goods,items.has_pinned_goods,items.has_realty,items.has_audiogid,items.has_discount,items.has_exchange,items.is_main_in_group,items.city_alias,items.detailed_subtype,items.alias,items.caption,items.is_promoted,items.routes,items.directions,items.barrier,items.is_routing_available,items.entrance_display_name,items.locale,items.reg_bc_url,items.region_id,items.segment_id,items.stat,items.stop_factors,items.has_apartments_info,items.timezone,items.timezone_offset,items.comment,items.station_id,items.platforms,items.sources,items.structure_info.material,items.structure_info.apartments_count,items.structure_info.porch_count,items.structure_info.floor_type,items.structure_info.gas_type,items.structure_info.year_of_construction,items.structure_info.elevators_count,items.structure_info.is_in_emergency_state,items.structure_info.project_type,items.structure_info.chs_name,items.structure_info.chs_category,items.route_logo,items.order_with_cart,items.is_deleted,items.search_attributes,items.congestion,items.poi_category,items.has_dynamic_congestion,items.temporary_unavailable_atm_services,items.marker_alt,items.floor_id,items.purpose_code,request_type,search_attributes,widgets,items.name_back,items.value_back,items.ev_charging_station,items.ski_lift,items.has_ads_model',\n",
    "    'page_size': 10,\n",
    "    'page': 1,\n",
    "    'sort': 'distance'\n",
    "}"
   ]
  },
  {
   "cell_type": "code",
   "execution_count": 181,
   "metadata": {
    "id": "yAwVoY_w1qF7"
   },
   "outputs": [],
   "source": [
    "def build_url(url, params):\n",
    "    query_string = ''\n",
    "\n",
    "    for key, value in params.items():\n",
    "      query_string += f\"{key}={value}&\"\n",
    "\n",
    "    if query_string.endswith('&'):\n",
    "        query_string = query_string[:-1]\n",
    "\n",
    "    full_url = f\"{url}?{query_string}\"\n",
    "\n",
    "    return full_url"
   ]
  },
  {
   "cell_type": "code",
   "execution_count": 182,
   "metadata": {
    "colab": {
     "base_uri": "https://localhost:8080/",
     "height": 139
    },
    "id": "vL0sP7K11-c1",
    "outputId": "e36f489f-0fe1-40eb-98da-7af5ad5c19b1",
    "scrolled": true
   },
   "outputs": [
    {
     "data": {
      "text/plain": [
       "'https://catalog.api.2gis.com/3.0/items?key=API_KEY&q=рестораны&location=30.373517,59.939079&radius=2500&type=branch&fields=items.point,items.address,items.adm_div,items.full_address_name,items.geometry.centroid,items.rubrics,items.org,items.contact_groups,items.schedule,items.access_comment,items.access,items.capacity,items.description,items.external_content,items.flags,items.floors,items.floor_plans,items.is_paid,items.for_trucks,items.paving_type,items.is_incentive,items.purpose,items.level_count,items.links,items.links.database_entrances.apartments_info,items.name_ex,items.reviews,items.statistics,context_rubrics,dym,filters,hash,items.ads.options,items.attribute_groups,items.context,items.dates.deleted_at,items.dates.updated_at,items.dates,items.geometry.style,items.group,items.metarubrics,items.delivery,items.has_goods,items.has_pinned_goods,items.has_realty,items.has_audiogid,items.has_discount,items.has_exchange,items.is_main_in_group,items.city_alias,items.detailed_subtype,items.alias,items.caption,items.is_promoted,items.routes,items.directions,items.barrier,items.is_routing_available,items.entrance_display_name,items.locale,items.reg_bc_url,items.region_id,items.segment_id,items.stat,items.stop_factors,items.has_apartments_info,items.timezone,items.timezone_offset,items.comment,items.station_id,items.platforms,items.sources,items.structure_info.material,items.structure_info.apartments_count,items.structure_info.porch_count,items.structure_info.floor_type,items.structure_info.gas_type,items.structure_info.year_of_construction,items.structure_info.elevators_count,items.structure_info.is_in_emergency_state,items.structure_info.project_type,items.structure_info.chs_name,items.structure_info.chs_category,items.route_logo,items.order_with_cart,items.is_deleted,items.search_attributes,items.congestion,items.poi_category,items.has_dynamic_congestion,items.temporary_unavailable_atm_services,items.marker_alt,items.floor_id,items.purpose_code,request_type,search_attributes,widgets,items.name_back,items.value_back,items.ev_charging_station,items.ski_lift,items.has_ads_model&page_size=10&page=1&sort=distance'"
      ]
     },
     "execution_count": 182,
     "metadata": {},
     "output_type": "execute_result"
    }
   ],
   "source": [
    "url = build_url(url, params)\n",
    "url"
   ]
  },
  {
   "cell_type": "code",
   "execution_count": 81,
   "metadata": {
    "id": "skGJ_uuK33wa"
   },
   "outputs": [],
   "source": [
    "# Пример отправки запроса\n",
    "# response = requests.get(url)\n",
    "\n",
    "# data = response.json()\n",
    "# items = data.get('result', {}).get('items', [])"
   ]
  },
  {
   "cell_type": "markdown",
   "metadata": {
    "id": "_xDoHyvjYQQh"
   },
   "source": [
    "#### Отправка запросов к API 2GIS (получение всех данных)"
   ]
  },
  {
   "cell_type": "code",
   "execution_count": 82,
   "metadata": {
    "id": "bDnNrqOP2QMR"
   },
   "outputs": [],
   "source": [
    "def flatten_json(nested_json, parent_key='', sep='_'):\n",
    "    \"\"\"\n",
    "    Рекурсивно разворачивает вложенный JSON в одномерный словарь.\n",
    "    \n",
    "    Параметры:\n",
    "    nested_json (dict): Вложенный JSON для разворачивания.\n",
    "    parent_key (str): Ключ родителя, который добавляется к ключам на каждом уровне (по умолчанию пустая строка).\n",
    "    sep (str): Разделитель, используемый для объединения ключей (по умолчанию '_').\n",
    "    \n",
    "    Возвращает:\n",
    "    dict: Новый словарь с \"плоскими\" ключами.\n",
    "    \"\"\"\n",
    "    items = []\n",
    "    for k, v in nested_json.items():\n",
    "        new_key = f\"{parent_key}{sep}{k}\" if parent_key else k\n",
    "        if isinstance(v, dict):\n",
    "            items.extend(flatten_json(v, new_key, sep=sep).items())\n",
    "        elif isinstance(v, list):\n",
    "            if v and isinstance(v[0], dict):\n",
    "                for i, sub_dict in enumerate(v):\n",
    "                    items.extend(flatten_json(sub_dict, f\"{new_key}_{i}\", sep=sep).items())\n",
    "            else:\n",
    "                items.append((new_key, \", \".join(map(str, v))))\n",
    "        else:\n",
    "            items.append((new_key, v))\n",
    "    return dict(items)"
   ]
  },
  {
   "cell_type": "code",
   "execution_count": 83,
   "metadata": {
    "id": "UuZRozTI2NA1"
   },
   "outputs": [],
   "source": [
    "def get_all_data(url, params, max_pages=5, start_page=1):\n",
    "    \"\"\"\n",
    "    Получает все данные с API, обрабатывает страницы с результатами, начиная с start_page, и сохраняет их в одном списке.\n",
    "    \n",
    "    Параметры:\n",
    "    url (str): Базовый URL для API-запроса.\n",
    "    params (dict): Параметры запроса, включая параметры для пагинации.\n",
    "    max_pages (int): Максимальное количество страниц для получения (по умолчанию 5).\n",
    "    start_page (int): Страница, с которой начинается получение данных (по умолчанию 1).\n",
    "\n",
    "    Возвращает:\n",
    "    list: Список всех данных, собранных с нескольких страниц.\n",
    "    \"\"\"\n",
    "    all_flat_data = []\n",
    "    page = start_page\n",
    "\n",
    "    with tqdm(total=max_pages, desc=\"Загрузка данных\", ncols=100) as pbar:\n",
    "        while True:\n",
    "            # time.sleep(1)\n",
    "\n",
    "            if page > max_pages:\n",
    "                # print(\"Достигнут предел по количеству страниц.\")\n",
    "                break\n",
    "\n",
    "            params['page'] = page\n",
    "            request_url = build_url(url, params)\n",
    "\n",
    "            pbar.set_postfix(page=page)\n",
    "            pbar.update(1)\n",
    "\n",
    "            response = requests.get(request_url)\n",
    "            data = response.json()\n",
    "\n",
    "            if 'result' in data and 'items' in data['result']:\n",
    "                for item in data['result']['items']:\n",
    "                    flat_data = flatten_json(item)\n",
    "                    all_flat_data.append(flat_data)\n",
    "\n",
    "                if len(data['result']['items']) < params['page_size']:\n",
    "                    print(f\"Данные на странице {page} меньше заявленного размера. Останавливаемся.\")\n",
    "                    break\n",
    "                else:\n",
    "                    page += 1\n",
    "            else:\n",
    "                print(\"Ошибка при получении данных\")\n",
    "                break\n",
    "\n",
    "    return all_flat_data"
   ]
  },
  {
   "cell_type": "code",
   "execution_count": 311,
   "metadata": {
    "colab": {
     "base_uri": "https://localhost:8080/"
    },
    "id": "rRV3kLtgq-Ub",
    "outputId": "aff548e8-47d2-421f-9320-becff98c56df"
   },
   "outputs": [
    {
     "name": "stderr",
     "output_type": "stream",
     "text": [
      "Загрузка данных:   4%|█▌                                    | 6/150 [00:11<04:43,  1.97s/it, page=6]"
     ]
    },
    {
     "name": "stdout",
     "output_type": "stream",
     "text": [
      "Ошибка при получении данных\n"
     ]
    },
    {
     "name": "stderr",
     "output_type": "stream",
     "text": [
      "\n"
     ]
    }
   ],
   "source": [
    "max_pages = 150\n",
    "params['location'] = '30.373517,59.939079'\n",
    "url = 'https://catalog.api.2gis.com/3.0/items'\n",
    "all_flat_data = get_all_data(url, params, max_pages=max_pages, start_page = 1)"
   ]
  },
  {
   "cell_type": "markdown",
   "metadata": {},
   "source": [
    "Изначально была идея получить информацию о всех кафе/ресторанах в некотором радиусе от офисов/центра Санкт-Петербурга, но у API 2GIS есть ограничение на количество ресторанов в одном ответе (до 10) и количество страниц (до 5). "
   ]
  },
  {
   "cell_type": "code",
   "execution_count": 69,
   "metadata": {
    "id": "Uu7eu9gjrIf6"
   },
   "outputs": [],
   "source": [
    "df = pd.DataFrame(all_flat_data)"
   ]
  },
  {
   "cell_type": "code",
   "execution_count": 70,
   "metadata": {
    "colab": {
     "base_uri": "https://localhost:8080/"
    },
    "id": "bgN-Lc502JjB",
    "outputId": "461d1ebd-1789-4782-cf46-74bf77dbb435"
   },
   "outputs": [
    {
     "name": "stdout",
     "output_type": "stream",
     "text": [
      "30\n",
      "30\n"
     ]
    }
   ],
   "source": [
    "print (len(df))\n",
    "df = df.drop_duplicates(subset='id', keep='first')\n",
    "print (len(df))"
   ]
  },
  {
   "cell_type": "code",
   "execution_count": 71,
   "metadata": {
    "colab": {
     "base_uri": "https://localhost:8080/",
     "height": 215
    },
    "id": "rQ9_W859_F3r",
    "outputId": "0e3dd360-817d-4c83-8372-b23516772e6e"
   },
   "outputs": [
    {
     "data": {
      "application/vnd.google.colaboratory.intrinsic+json": {
       "summary": "{\n  \"name\": \"    \\\"links_entrances_0_geometry_points\\\"]]\",\n  \"rows\": 3,\n  \"fields\": [\n    {\n      \"column\": \"address_name\",\n      \"properties\": {\n        \"dtype\": \"string\",\n        \"num_unique_values\": 3,\n        \"samples\": [\n          \"9-\\u044f \\u0421\\u043e\\u0432\\u0435\\u0442\\u0441\\u043a\\u0430\\u044f \\u0443\\u043b\\u0438\\u0446\\u0430, 3\",\n          \"\\u0421\\u0443\\u0432\\u043e\\u0440\\u043e\\u0432\\u0441\\u043a\\u0438\\u0439 \\u043f\\u0440\\u043e\\u0441\\u043f\\u0435\\u043a\\u0442, 27\",\n          \"\\u0413\\u0440\\u0435\\u0447\\u0435\\u0441\\u043a\\u0438\\u0439 \\u043f\\u0440\\u043e\\u0441\\u043f\\u0435\\u043a\\u0442, 29\"\n        ],\n        \"semantic_type\": \"\",\n        \"description\": \"\"\n      }\n    },\n    {\n      \"column\": \"name_ex_primary\",\n      \"properties\": {\n        \"dtype\": \"string\",\n        \"num_unique_values\": 3,\n        \"samples\": [\n          \"Harbor\",\n          \"Kroo cafe\",\n          \"Osteria Betulla\"\n        ],\n        \"semantic_type\": \"\",\n        \"description\": \"\"\n      }\n    },\n    {\n      \"column\": \"name_ex_extension\",\n      \"properties\": {\n        \"dtype\": \"string\",\n        \"num_unique_values\": 3,\n        \"samples\": [\n          \"\\u0440\\u0435\\u0441\\u0442\\u043e\\u0440\\u0430\\u043d \",\n          \"\\u0444\\u0440\\u0430\\u043d\\u0446\\u0443\\u0437\\u0441\\u043a\\u0438\\u0439 \\u0440\\u0435\\u0441\\u0442\\u043e\\u0440\\u0430\\u043d\",\n          \"\\u043e\\u0441\\u0442\\u0435\\u0440\\u0438\\u044f\"\n        ],\n        \"semantic_type\": \"\",\n        \"description\": \"\"\n      }\n    },\n    {\n      \"column\": \"reviews_general_rating\",\n      \"properties\": {\n        \"dtype\": \"number\",\n        \"std\": 0.17320508075688762,\n        \"min\": 4.3,\n        \"max\": 4.6,\n        \"num_unique_values\": 2,\n        \"samples\": [\n          4.3,\n          4.6\n        ],\n        \"semantic_type\": \"\",\n        \"description\": \"\"\n      }\n    },\n    {\n      \"column\": \"reviews_general_review_count\",\n      \"properties\": {\n        \"dtype\": \"number\",\n        \"std\": 80.59983457385836,\n        \"min\": 7.0,\n        \"max\": 167.0,\n        \"num_unique_values\": 3,\n        \"samples\": [\n          7.0,\n          104.0\n        ],\n        \"semantic_type\": \"\",\n        \"description\": \"\"\n      }\n    },\n    {\n      \"column\": \"reviews_general_review_count_with_stars\",\n      \"properties\": {\n        \"dtype\": \"number\",\n        \"std\": 138.20395556326648,\n        \"min\": 9.0,\n        \"max\": 285.0,\n        \"num_unique_values\": 3,\n        \"samples\": [\n          9.0,\n          160.0\n        ],\n        \"semantic_type\": \"\",\n        \"description\": \"\"\n      }\n    },\n    {\n      \"column\": \"links_entrances_0_geometry_points\",\n      \"properties\": {\n        \"dtype\": \"string\",\n        \"num_unique_values\": 3,\n        \"samples\": [\n          \"POINT(30.370701625633792 59.938567148391527)\",\n          \"POINT(30.374200653496967 59.937567679721774)\"\n        ],\n        \"semantic_type\": \"\",\n        \"description\": \"\"\n      }\n    }\n  ]\n}",
       "type": "dataframe"
      },
      "text/html": [
       "\n",
       "  <div id=\"df-658812e4-bfdc-4e92-a09f-841fe6cb3b13\" class=\"colab-df-container\">\n",
       "    <div>\n",
       "<style scoped>\n",
       "    .dataframe tbody tr th:only-of-type {\n",
       "        vertical-align: middle;\n",
       "    }\n",
       "\n",
       "    .dataframe tbody tr th {\n",
       "        vertical-align: top;\n",
       "    }\n",
       "\n",
       "    .dataframe thead th {\n",
       "        text-align: right;\n",
       "    }\n",
       "</style>\n",
       "<table border=\"1\" class=\"dataframe\">\n",
       "  <thead>\n",
       "    <tr style=\"text-align: right;\">\n",
       "      <th></th>\n",
       "      <th>address_name</th>\n",
       "      <th>name_ex_primary</th>\n",
       "      <th>name_ex_extension</th>\n",
       "      <th>reviews_general_rating</th>\n",
       "      <th>reviews_general_review_count</th>\n",
       "      <th>reviews_general_review_count_with_stars</th>\n",
       "      <th>links_entrances_0_geometry_points</th>\n",
       "    </tr>\n",
       "  </thead>\n",
       "  <tbody>\n",
       "    <tr>\n",
       "      <th>0</th>\n",
       "      <td>9-я Советская улица, 3</td>\n",
       "      <td>Harbor</td>\n",
       "      <td>ресторан</td>\n",
       "      <td>4.6</td>\n",
       "      <td>7.0</td>\n",
       "      <td>9.0</td>\n",
       "      <td>POINT(30.370701625633792 59.938567148391527)</td>\n",
       "    </tr>\n",
       "    <tr>\n",
       "      <th>1</th>\n",
       "      <td>Суворовский проспект, 27</td>\n",
       "      <td>Kroo cafe</td>\n",
       "      <td>французский ресторан</td>\n",
       "      <td>4.3</td>\n",
       "      <td>104.0</td>\n",
       "      <td>160.0</td>\n",
       "      <td>POINT(30.374200653496967 59.937567679721774)</td>\n",
       "    </tr>\n",
       "    <tr>\n",
       "      <th>2</th>\n",
       "      <td>Греческий проспект, 29</td>\n",
       "      <td>Osteria Betulla</td>\n",
       "      <td>остерия</td>\n",
       "      <td>4.3</td>\n",
       "      <td>167.0</td>\n",
       "      <td>285.0</td>\n",
       "      <td>POINT(30.370271781770345 59.938672444011928)</td>\n",
       "    </tr>\n",
       "  </tbody>\n",
       "</table>\n",
       "</div>\n",
       "    <div class=\"colab-df-buttons\">\n",
       "\n",
       "  <div class=\"colab-df-container\">\n",
       "    <button class=\"colab-df-convert\" onclick=\"convertToInteractive('df-658812e4-bfdc-4e92-a09f-841fe6cb3b13')\"\n",
       "            title=\"Convert this dataframe to an interactive table.\"\n",
       "            style=\"display:none;\">\n",
       "\n",
       "  <svg xmlns=\"http://www.w3.org/2000/svg\" height=\"24px\" viewBox=\"0 -960 960 960\">\n",
       "    <path d=\"M120-120v-720h720v720H120Zm60-500h600v-160H180v160Zm220 220h160v-160H400v160Zm0 220h160v-160H400v160ZM180-400h160v-160H180v160Zm440 0h160v-160H620v160ZM180-180h160v-160H180v160Zm440 0h160v-160H620v160Z\"/>\n",
       "  </svg>\n",
       "    </button>\n",
       "\n",
       "  <style>\n",
       "    .colab-df-container {\n",
       "      display:flex;\n",
       "      gap: 12px;\n",
       "    }\n",
       "\n",
       "    .colab-df-convert {\n",
       "      background-color: #E8F0FE;\n",
       "      border: none;\n",
       "      border-radius: 50%;\n",
       "      cursor: pointer;\n",
       "      display: none;\n",
       "      fill: #1967D2;\n",
       "      height: 32px;\n",
       "      padding: 0 0 0 0;\n",
       "      width: 32px;\n",
       "    }\n",
       "\n",
       "    .colab-df-convert:hover {\n",
       "      background-color: #E2EBFA;\n",
       "      box-shadow: 0px 1px 2px rgba(60, 64, 67, 0.3), 0px 1px 3px 1px rgba(60, 64, 67, 0.15);\n",
       "      fill: #174EA6;\n",
       "    }\n",
       "\n",
       "    .colab-df-buttons div {\n",
       "      margin-bottom: 4px;\n",
       "    }\n",
       "\n",
       "    [theme=dark] .colab-df-convert {\n",
       "      background-color: #3B4455;\n",
       "      fill: #D2E3FC;\n",
       "    }\n",
       "\n",
       "    [theme=dark] .colab-df-convert:hover {\n",
       "      background-color: #434B5C;\n",
       "      box-shadow: 0px 1px 3px 1px rgba(0, 0, 0, 0.15);\n",
       "      filter: drop-shadow(0px 1px 2px rgba(0, 0, 0, 0.3));\n",
       "      fill: #FFFFFF;\n",
       "    }\n",
       "  </style>\n",
       "\n",
       "    <script>\n",
       "      const buttonEl =\n",
       "        document.querySelector('#df-658812e4-bfdc-4e92-a09f-841fe6cb3b13 button.colab-df-convert');\n",
       "      buttonEl.style.display =\n",
       "        google.colab.kernel.accessAllowed ? 'block' : 'none';\n",
       "\n",
       "      async function convertToInteractive(key) {\n",
       "        const element = document.querySelector('#df-658812e4-bfdc-4e92-a09f-841fe6cb3b13');\n",
       "        const dataTable =\n",
       "          await google.colab.kernel.invokeFunction('convertToInteractive',\n",
       "                                                    [key], {});\n",
       "        if (!dataTable) return;\n",
       "\n",
       "        const docLinkHtml = 'Like what you see? Visit the ' +\n",
       "          '<a target=\"_blank\" href=https://colab.research.google.com/notebooks/data_table.ipynb>data table notebook</a>'\n",
       "          + ' to learn more about interactive tables.';\n",
       "        element.innerHTML = '';\n",
       "        dataTable['output_type'] = 'display_data';\n",
       "        await google.colab.output.renderOutput(dataTable, element);\n",
       "        const docLink = document.createElement('div');\n",
       "        docLink.innerHTML = docLinkHtml;\n",
       "        element.appendChild(docLink);\n",
       "      }\n",
       "    </script>\n",
       "  </div>\n",
       "\n",
       "\n",
       "<div id=\"df-3be532cc-3ccb-47ca-ba86-f75a559a1ee3\">\n",
       "  <button class=\"colab-df-quickchart\" onclick=\"quickchart('df-3be532cc-3ccb-47ca-ba86-f75a559a1ee3')\"\n",
       "            title=\"Suggest charts\"\n",
       "            style=\"display:none;\">\n",
       "\n",
       "<svg xmlns=\"http://www.w3.org/2000/svg\" height=\"24px\"viewBox=\"0 0 24 24\"\n",
       "     width=\"24px\">\n",
       "    <g>\n",
       "        <path d=\"M19 3H5c-1.1 0-2 .9-2 2v14c0 1.1.9 2 2 2h14c1.1 0 2-.9 2-2V5c0-1.1-.9-2-2-2zM9 17H7v-7h2v7zm4 0h-2V7h2v10zm4 0h-2v-4h2v4z\"/>\n",
       "    </g>\n",
       "</svg>\n",
       "  </button>\n",
       "\n",
       "<style>\n",
       "  .colab-df-quickchart {\n",
       "      --bg-color: #E8F0FE;\n",
       "      --fill-color: #1967D2;\n",
       "      --hover-bg-color: #E2EBFA;\n",
       "      --hover-fill-color: #174EA6;\n",
       "      --disabled-fill-color: #AAA;\n",
       "      --disabled-bg-color: #DDD;\n",
       "  }\n",
       "\n",
       "  [theme=dark] .colab-df-quickchart {\n",
       "      --bg-color: #3B4455;\n",
       "      --fill-color: #D2E3FC;\n",
       "      --hover-bg-color: #434B5C;\n",
       "      --hover-fill-color: #FFFFFF;\n",
       "      --disabled-bg-color: #3B4455;\n",
       "      --disabled-fill-color: #666;\n",
       "  }\n",
       "\n",
       "  .colab-df-quickchart {\n",
       "    background-color: var(--bg-color);\n",
       "    border: none;\n",
       "    border-radius: 50%;\n",
       "    cursor: pointer;\n",
       "    display: none;\n",
       "    fill: var(--fill-color);\n",
       "    height: 32px;\n",
       "    padding: 0;\n",
       "    width: 32px;\n",
       "  }\n",
       "\n",
       "  .colab-df-quickchart:hover {\n",
       "    background-color: var(--hover-bg-color);\n",
       "    box-shadow: 0 1px 2px rgba(60, 64, 67, 0.3), 0 1px 3px 1px rgba(60, 64, 67, 0.15);\n",
       "    fill: var(--button-hover-fill-color);\n",
       "  }\n",
       "\n",
       "  .colab-df-quickchart-complete:disabled,\n",
       "  .colab-df-quickchart-complete:disabled:hover {\n",
       "    background-color: var(--disabled-bg-color);\n",
       "    fill: var(--disabled-fill-color);\n",
       "    box-shadow: none;\n",
       "  }\n",
       "\n",
       "  .colab-df-spinner {\n",
       "    border: 2px solid var(--fill-color);\n",
       "    border-color: transparent;\n",
       "    border-bottom-color: var(--fill-color);\n",
       "    animation:\n",
       "      spin 1s steps(1) infinite;\n",
       "  }\n",
       "\n",
       "  @keyframes spin {\n",
       "    0% {\n",
       "      border-color: transparent;\n",
       "      border-bottom-color: var(--fill-color);\n",
       "      border-left-color: var(--fill-color);\n",
       "    }\n",
       "    20% {\n",
       "      border-color: transparent;\n",
       "      border-left-color: var(--fill-color);\n",
       "      border-top-color: var(--fill-color);\n",
       "    }\n",
       "    30% {\n",
       "      border-color: transparent;\n",
       "      border-left-color: var(--fill-color);\n",
       "      border-top-color: var(--fill-color);\n",
       "      border-right-color: var(--fill-color);\n",
       "    }\n",
       "    40% {\n",
       "      border-color: transparent;\n",
       "      border-right-color: var(--fill-color);\n",
       "      border-top-color: var(--fill-color);\n",
       "    }\n",
       "    60% {\n",
       "      border-color: transparent;\n",
       "      border-right-color: var(--fill-color);\n",
       "    }\n",
       "    80% {\n",
       "      border-color: transparent;\n",
       "      border-right-color: var(--fill-color);\n",
       "      border-bottom-color: var(--fill-color);\n",
       "    }\n",
       "    90% {\n",
       "      border-color: transparent;\n",
       "      border-bottom-color: var(--fill-color);\n",
       "    }\n",
       "  }\n",
       "</style>\n",
       "\n",
       "  <script>\n",
       "    async function quickchart(key) {\n",
       "      const quickchartButtonEl =\n",
       "        document.querySelector('#' + key + ' button');\n",
       "      quickchartButtonEl.disabled = true;  // To prevent multiple clicks.\n",
       "      quickchartButtonEl.classList.add('colab-df-spinner');\n",
       "      try {\n",
       "        const charts = await google.colab.kernel.invokeFunction(\n",
       "            'suggestCharts', [key], {});\n",
       "      } catch (error) {\n",
       "        console.error('Error during call to suggestCharts:', error);\n",
       "      }\n",
       "      quickchartButtonEl.classList.remove('colab-df-spinner');\n",
       "      quickchartButtonEl.classList.add('colab-df-quickchart-complete');\n",
       "    }\n",
       "    (() => {\n",
       "      let quickchartButtonEl =\n",
       "        document.querySelector('#df-3be532cc-3ccb-47ca-ba86-f75a559a1ee3 button');\n",
       "      quickchartButtonEl.style.display =\n",
       "        google.colab.kernel.accessAllowed ? 'block' : 'none';\n",
       "    })();\n",
       "  </script>\n",
       "</div>\n",
       "    </div>\n",
       "  </div>\n"
      ],
      "text/plain": [
       "               address_name  name_ex_primary     name_ex_extension  \\\n",
       "0    9-я Советская улица, 3           Harbor             ресторан    \n",
       "1  Суворовский проспект, 27        Kroo cafe  французский ресторан   \n",
       "2    Греческий проспект, 29  Osteria Betulla               остерия   \n",
       "\n",
       "   reviews_general_rating  reviews_general_review_count  \\\n",
       "0                     4.6                           7.0   \n",
       "1                     4.3                         104.0   \n",
       "2                     4.3                         167.0   \n",
       "\n",
       "   reviews_general_review_count_with_stars  \\\n",
       "0                                      9.0   \n",
       "1                                    160.0   \n",
       "2                                    285.0   \n",
       "\n",
       "              links_entrances_0_geometry_points  \n",
       "0  POINT(30.370701625633792 59.938567148391527)  \n",
       "1  POINT(30.374200653496967 59.937567679721774)  \n",
       "2  POINT(30.370271781770345 59.938672444011928)  "
      ]
     },
     "execution_count": 71,
     "metadata": {},
     "output_type": "execute_result"
    }
   ],
   "source": [
    "df[['address_name',\n",
    "    'name_ex_primary', 'name_ex_extension',\n",
    "    'reviews_general_rating','reviews_general_review_count', 'reviews_general_review_count_with_stars',\n",
    "    \"links_entrances_0_geometry_points\"]].head(3)"
   ]
  },
  {
   "cell_type": "code",
   "execution_count": 15,
   "metadata": {
    "id": "QFaGUT9u-Ubh"
   },
   "outputs": [],
   "source": [
    "df.to_csv('data/data_restaurants.csv', index=False)"
   ]
  },
  {
   "cell_type": "markdown",
   "metadata": {},
   "source": [
    "Поэтому буду использовать другой подход:\n",
    "\n",
    "Я начинаю с того, что беру небольшой радиус (например, 700 метров) от исходной точки (одного из офисов) и запрашиваю через API информацию о ресторанах в данной области. Получаю данные о 5 страницах, на каждой из которых по 10 ресторанов. После этого я сдвигаюсь на некоторых шаг от исходной точки в разные направления: на север, юг, запад, восток, северо-запад и т. д. и делаю запросы в этих новых местах. Таким образом, я постепенно охватываю более широкую территорию."
   ]
  },
  {
   "cell_type": "markdown",
   "metadata": {
    "id": "QmbhTdAlZ0Pg"
   },
   "source": [
    "#### Отправка запросов к API 2GIS (получение данных из маленьких окружностей)"
   ]
  },
  {
   "cell_type": "code",
   "execution_count": 7,
   "metadata": {
    "id": "oNeISotXb-qq"
   },
   "outputs": [],
   "source": [
    "def get_shifted_coordinates(lat, lon, shift_count_1, shift_count_2, distance_step):\n",
    "    \"\"\"\n",
    "    Функция для получения координат после сдвигов в различных направлениях.\n",
    "\n",
    "    :param lat: начальная широта\n",
    "    :param lon: начальная долгота\n",
    "    :param shift_count_1: количество сдвигов в каждом направлении на север/юг/...\n",
    "    :param shift_count_2: количество сдвигов в каждом направлении на северо-запад/юг-восток/...\n",
    "    :distance_step: шаг сдвига в метрах\n",
    "    :return: список координат (широта, долгота) для каждого сдвига\n",
    "    \"\"\"\n",
    "\n",
    "    lat_degree = 111320\n",
    "\n",
    "    lon_degree = 111320 * math.cos(math.radians(lat))\n",
    "\n",
    "    delta_lat = distance_step / lat_degree\n",
    "    delta_lon = distance_step / lon_degree\n",
    "\n",
    "    directions = [\n",
    "        ('north', delta_lat, 0),  # Север\n",
    "        ('south', -delta_lat, 0),  # Юг\n",
    "        ('east', 0, delta_lon),    # Восток\n",
    "        ('west', 0, -delta_lon),   # Запад\n",
    "        ('north-east', delta_lat, delta_lon),  # Северо-восток\n",
    "        ('north-west', delta_lat, -delta_lon), # Северо-запад\n",
    "        ('south-east', -delta_lat, delta_lon), # Юго-восток\n",
    "        ('south-west', -delta_lat, -delta_lon) # Юго-запад\n",
    "    ]\n",
    "\n",
    "    shifted_coordinates = [('start', lat, lon)]\n",
    "\n",
    "    for direction, d_lat, d_lon in directions[:4]:\n",
    "        for i in range(1, shift_count_1 + 1):\n",
    "            new_lat = lat + i * d_lat\n",
    "            new_lon = lon + i * d_lon\n",
    "            shifted_coordinates.append((direction, new_lat, new_lon))\n",
    "\n",
    "    for direction, d_lat, d_lon in directions[4:]:\n",
    "        for i in range(1, shift_count_2 + 1):\n",
    "            new_lat = lat + i * d_lat\n",
    "            new_lon = lon + i * d_lon\n",
    "            shifted_coordinates.append((direction, new_lat, new_lon))\n",
    "\n",
    "    return shifted_coordinates"
   ]
  },
  {
   "cell_type": "markdown",
   "metadata": {
    "id": "Kf5Uv9oJb6x2"
   },
   "source": [
    "##### Визуализация"
   ]
  },
  {
   "cell_type": "code",
   "execution_count": 10,
   "metadata": {
    "colab": {
     "base_uri": "https://localhost:8080/",
     "height": 771
    },
    "id": "8aeDoGL0cddt",
    "outputId": "4e75da8a-7c93-4f19-b8ef-2824aa690ff1"
   },
   "outputs": [
    {
     "data": {
      "text/html": [
       "<div style=\"width:100%;\"><div style=\"position:relative;width:100%;height:0;padding-bottom:60%;\"><span style=\"color:#565656\">Make this Notebook Trusted to load map: File -> Trust Notebook</span><iframe srcdoc=\"&lt;!DOCTYPE html&gt;\n",
       "&lt;html&gt;\n",
       "&lt;head&gt;\n",
       "    \n",
       "    &lt;meta http-equiv=&quot;content-type&quot; content=&quot;text/html; charset=UTF-8&quot; /&gt;\n",
       "    \n",
       "        &lt;script&gt;\n",
       "            L_NO_TOUCH = false;\n",
       "            L_DISABLE_3D = false;\n",
       "        &lt;/script&gt;\n",
       "    \n",
       "    &lt;style&gt;html, body {width: 100%;height: 100%;margin: 0;padding: 0;}&lt;/style&gt;\n",
       "    &lt;style&gt;#map {position:absolute;top:0;bottom:0;right:0;left:0;}&lt;/style&gt;\n",
       "    &lt;script src=&quot;https://cdn.jsdelivr.net/npm/leaflet@1.9.3/dist/leaflet.js&quot;&gt;&lt;/script&gt;\n",
       "    &lt;script src=&quot;https://code.jquery.com/jquery-3.7.1.min.js&quot;&gt;&lt;/script&gt;\n",
       "    &lt;script src=&quot;https://cdn.jsdelivr.net/npm/bootstrap@5.2.2/dist/js/bootstrap.bundle.min.js&quot;&gt;&lt;/script&gt;\n",
       "    &lt;script src=&quot;https://cdnjs.cloudflare.com/ajax/libs/Leaflet.awesome-markers/2.0.2/leaflet.awesome-markers.js&quot;&gt;&lt;/script&gt;\n",
       "    &lt;link rel=&quot;stylesheet&quot; href=&quot;https://cdn.jsdelivr.net/npm/leaflet@1.9.3/dist/leaflet.css&quot;/&gt;\n",
       "    &lt;link rel=&quot;stylesheet&quot; href=&quot;https://cdn.jsdelivr.net/npm/bootstrap@5.2.2/dist/css/bootstrap.min.css&quot;/&gt;\n",
       "    &lt;link rel=&quot;stylesheet&quot; href=&quot;https://netdna.bootstrapcdn.com/bootstrap/3.0.0/css/bootstrap-glyphicons.css&quot;/&gt;\n",
       "    &lt;link rel=&quot;stylesheet&quot; href=&quot;https://cdn.jsdelivr.net/npm/@fortawesome/fontawesome-free@6.2.0/css/all.min.css&quot;/&gt;\n",
       "    &lt;link rel=&quot;stylesheet&quot; href=&quot;https://cdnjs.cloudflare.com/ajax/libs/Leaflet.awesome-markers/2.0.2/leaflet.awesome-markers.css&quot;/&gt;\n",
       "    &lt;link rel=&quot;stylesheet&quot; href=&quot;https://cdn.jsdelivr.net/gh/python-visualization/folium/folium/templates/leaflet.awesome.rotate.min.css&quot;/&gt;\n",
       "    \n",
       "            &lt;meta name=&quot;viewport&quot; content=&quot;width=device-width,\n",
       "                initial-scale=1.0, maximum-scale=1.0, user-scalable=no&quot; /&gt;\n",
       "            &lt;style&gt;\n",
       "                #map_0a0621243bae961cb10196f6cc8f3c7e {\n",
       "                    position: relative;\n",
       "                    width: 100.0%;\n",
       "                    height: 100.0%;\n",
       "                    left: 0.0%;\n",
       "                    top: 0.0%;\n",
       "                }\n",
       "                .leaflet-container { font-size: 1rem; }\n",
       "            &lt;/style&gt;\n",
       "        \n",
       "&lt;/head&gt;\n",
       "&lt;body&gt;\n",
       "    \n",
       "    \n",
       "            &lt;div class=&quot;folium-map&quot; id=&quot;map_0a0621243bae961cb10196f6cc8f3c7e&quot; &gt;&lt;/div&gt;\n",
       "        \n",
       "&lt;/body&gt;\n",
       "&lt;script&gt;\n",
       "    \n",
       "    \n",
       "            var map_0a0621243bae961cb10196f6cc8f3c7e = L.map(\n",
       "                &quot;map_0a0621243bae961cb10196f6cc8f3c7e&quot;,\n",
       "                {\n",
       "                    center: [59.939079, 30.373517],\n",
       "                    crs: L.CRS.EPSG3857,\n",
       "                    ...{\n",
       "  &quot;zoom&quot;: 14,\n",
       "  &quot;zoomControl&quot;: true,\n",
       "  &quot;preferCanvas&quot;: false,\n",
       "}\n",
       "\n",
       "                }\n",
       "            );\n",
       "\n",
       "            \n",
       "\n",
       "        \n",
       "    \n",
       "            var tile_layer_4c44465fecb1cdefe7da021d18caf426 = L.tileLayer(\n",
       "                &quot;https://tile.openstreetmap.org/{z}/{x}/{y}.png&quot;,\n",
       "                {\n",
       "  &quot;minZoom&quot;: 0,\n",
       "  &quot;maxZoom&quot;: 19,\n",
       "  &quot;maxNativeZoom&quot;: 19,\n",
       "  &quot;noWrap&quot;: false,\n",
       "  &quot;attribution&quot;: &quot;\\u0026copy; \\u003ca href=\\&quot;https://www.openstreetmap.org/copyright\\&quot;\\u003eOpenStreetMap\\u003c/a\\u003e contributors&quot;,\n",
       "  &quot;subdomains&quot;: &quot;abc&quot;,\n",
       "  &quot;detectRetina&quot;: false,\n",
       "  &quot;tms&quot;: false,\n",
       "  &quot;opacity&quot;: 1,\n",
       "}\n",
       "\n",
       "            );\n",
       "        \n",
       "    \n",
       "            tile_layer_4c44465fecb1cdefe7da021d18caf426.addTo(map_0a0621243bae961cb10196f6cc8f3c7e);\n",
       "        \n",
       "    \n",
       "            var marker_cf1ea95487f7ed89557cdbcbf3416da8 = L.marker(\n",
       "                [59.939079, 30.373517],\n",
       "                {\n",
       "}\n",
       "            ).addTo(map_0a0621243bae961cb10196f6cc8f3c7e);\n",
       "        \n",
       "    \n",
       "        var popup_9b7012b99d98c37227a02dfa996056d8 = L.popup({\n",
       "  &quot;maxWidth&quot;: &quot;100%&quot;,\n",
       "});\n",
       "\n",
       "        \n",
       "            \n",
       "                var html_c5e11bb188eb942c39f04fa179b25316 = $(`&lt;div id=&quot;html_c5e11bb188eb942c39f04fa179b25316&quot; style=&quot;width: 100.0%; height: 100.0%;&quot;&gt;Стартовая точка&lt;/div&gt;`)[0];\n",
       "                popup_9b7012b99d98c37227a02dfa996056d8.setContent(html_c5e11bb188eb942c39f04fa179b25316);\n",
       "            \n",
       "        \n",
       "\n",
       "        marker_cf1ea95487f7ed89557cdbcbf3416da8.bindPopup(popup_9b7012b99d98c37227a02dfa996056d8)\n",
       "        ;\n",
       "\n",
       "        \n",
       "    \n",
       "    \n",
       "            var circle_2944b93c9a43b612bbda9123ac435717 = L.circle(\n",
       "                [59.939079, 30.373517],\n",
       "                {&quot;bubblingMouseEvents&quot;: true, &quot;color&quot;: &quot;green&quot;, &quot;dashArray&quot;: null, &quot;dashOffset&quot;: null, &quot;fill&quot;: true, &quot;fillColor&quot;: &quot;green&quot;, &quot;fillOpacity&quot;: 0.4, &quot;fillRule&quot;: &quot;evenodd&quot;, &quot;lineCap&quot;: &quot;round&quot;, &quot;lineJoin&quot;: &quot;round&quot;, &quot;opacity&quot;: 1.0, &quot;radius&quot;: 700, &quot;stroke&quot;: true, &quot;weight&quot;: 3}\n",
       "            ).addTo(map_0a0621243bae961cb10196f6cc8f3c7e);\n",
       "        \n",
       "    \n",
       "            var circle_51956952fd7d00da9d84a5cb994a087c = L.circle(\n",
       "                [59.94716380057492, 30.373517],\n",
       "                {&quot;bubblingMouseEvents&quot;: true, &quot;color&quot;: &quot;blue&quot;, &quot;dashArray&quot;: null, &quot;dashOffset&quot;: null, &quot;fill&quot;: true, &quot;fillColor&quot;: &quot;blue&quot;, &quot;fillOpacity&quot;: 0.4, &quot;fillRule&quot;: &quot;evenodd&quot;, &quot;lineCap&quot;: &quot;round&quot;, &quot;lineJoin&quot;: &quot;round&quot;, &quot;opacity&quot;: 1.0, &quot;radius&quot;: 700, &quot;stroke&quot;: true, &quot;weight&quot;: 3}\n",
       "            ).addTo(map_0a0621243bae961cb10196f6cc8f3c7e);\n",
       "        \n",
       "    \n",
       "            var circle_29fd609f0495c150a16b8064523a3b1a = L.circle(\n",
       "                [59.95524860114984, 30.373517],\n",
       "                {&quot;bubblingMouseEvents&quot;: true, &quot;color&quot;: &quot;blue&quot;, &quot;dashArray&quot;: null, &quot;dashOffset&quot;: null, &quot;fill&quot;: true, &quot;fillColor&quot;: &quot;blue&quot;, &quot;fillOpacity&quot;: 0.4, &quot;fillRule&quot;: &quot;evenodd&quot;, &quot;lineCap&quot;: &quot;round&quot;, &quot;lineJoin&quot;: &quot;round&quot;, &quot;opacity&quot;: 1.0, &quot;radius&quot;: 700, &quot;stroke&quot;: true, &quot;weight&quot;: 3}\n",
       "            ).addTo(map_0a0621243bae961cb10196f6cc8f3c7e);\n",
       "        \n",
       "    \n",
       "            var circle_e4860f23dbfd1bb047714b678370347a = L.circle(\n",
       "                [59.93099419942508, 30.373517],\n",
       "                {&quot;bubblingMouseEvents&quot;: true, &quot;color&quot;: &quot;blue&quot;, &quot;dashArray&quot;: null, &quot;dashOffset&quot;: null, &quot;fill&quot;: true, &quot;fillColor&quot;: &quot;blue&quot;, &quot;fillOpacity&quot;: 0.4, &quot;fillRule&quot;: &quot;evenodd&quot;, &quot;lineCap&quot;: &quot;round&quot;, &quot;lineJoin&quot;: &quot;round&quot;, &quot;opacity&quot;: 1.0, &quot;radius&quot;: 700, &quot;stroke&quot;: true, &quot;weight&quot;: 3}\n",
       "            ).addTo(map_0a0621243bae961cb10196f6cc8f3c7e);\n",
       "        \n",
       "    \n",
       "            var circle_030fb9d3c084faffd0dd986c83bf9dae = L.circle(\n",
       "                [59.92290939885016, 30.373517],\n",
       "                {&quot;bubblingMouseEvents&quot;: true, &quot;color&quot;: &quot;blue&quot;, &quot;dashArray&quot;: null, &quot;dashOffset&quot;: null, &quot;fill&quot;: true, &quot;fillColor&quot;: &quot;blue&quot;, &quot;fillOpacity&quot;: 0.4, &quot;fillRule&quot;: &quot;evenodd&quot;, &quot;lineCap&quot;: &quot;round&quot;, &quot;lineJoin&quot;: &quot;round&quot;, &quot;opacity&quot;: 1.0, &quot;radius&quot;: 700, &quot;stroke&quot;: true, &quot;weight&quot;: 3}\n",
       "            ).addTo(map_0a0621243bae961cb10196f6cc8f3c7e);\n",
       "        \n",
       "    \n",
       "            var circle_43456c359c5f5c645040acde28b304d6 = L.circle(\n",
       "                [59.939079, 30.389656886399386],\n",
       "                {&quot;bubblingMouseEvents&quot;: true, &quot;color&quot;: &quot;blue&quot;, &quot;dashArray&quot;: null, &quot;dashOffset&quot;: null, &quot;fill&quot;: true, &quot;fillColor&quot;: &quot;blue&quot;, &quot;fillOpacity&quot;: 0.4, &quot;fillRule&quot;: &quot;evenodd&quot;, &quot;lineCap&quot;: &quot;round&quot;, &quot;lineJoin&quot;: &quot;round&quot;, &quot;opacity&quot;: 1.0, &quot;radius&quot;: 700, &quot;stroke&quot;: true, &quot;weight&quot;: 3}\n",
       "            ).addTo(map_0a0621243bae961cb10196f6cc8f3c7e);\n",
       "        \n",
       "    \n",
       "            var circle_219c37b85a93a64b9b837328621371cc = L.circle(\n",
       "                [59.939079, 30.40579677279877],\n",
       "                {&quot;bubblingMouseEvents&quot;: true, &quot;color&quot;: &quot;blue&quot;, &quot;dashArray&quot;: null, &quot;dashOffset&quot;: null, &quot;fill&quot;: true, &quot;fillColor&quot;: &quot;blue&quot;, &quot;fillOpacity&quot;: 0.4, &quot;fillRule&quot;: &quot;evenodd&quot;, &quot;lineCap&quot;: &quot;round&quot;, &quot;lineJoin&quot;: &quot;round&quot;, &quot;opacity&quot;: 1.0, &quot;radius&quot;: 700, &quot;stroke&quot;: true, &quot;weight&quot;: 3}\n",
       "            ).addTo(map_0a0621243bae961cb10196f6cc8f3c7e);\n",
       "        \n",
       "    \n",
       "            var circle_907e39b730bee2051a58a4600454f6d8 = L.circle(\n",
       "                [59.939079, 30.357377113600613],\n",
       "                {&quot;bubblingMouseEvents&quot;: true, &quot;color&quot;: &quot;blue&quot;, &quot;dashArray&quot;: null, &quot;dashOffset&quot;: null, &quot;fill&quot;: true, &quot;fillColor&quot;: &quot;blue&quot;, &quot;fillOpacity&quot;: 0.4, &quot;fillRule&quot;: &quot;evenodd&quot;, &quot;lineCap&quot;: &quot;round&quot;, &quot;lineJoin&quot;: &quot;round&quot;, &quot;opacity&quot;: 1.0, &quot;radius&quot;: 700, &quot;stroke&quot;: true, &quot;weight&quot;: 3}\n",
       "            ).addTo(map_0a0621243bae961cb10196f6cc8f3c7e);\n",
       "        \n",
       "    \n",
       "            var circle_2d6b1324fc4be8029ce63891c7d01e52 = L.circle(\n",
       "                [59.939079, 30.34123722720123],\n",
       "                {&quot;bubblingMouseEvents&quot;: true, &quot;color&quot;: &quot;blue&quot;, &quot;dashArray&quot;: null, &quot;dashOffset&quot;: null, &quot;fill&quot;: true, &quot;fillColor&quot;: &quot;blue&quot;, &quot;fillOpacity&quot;: 0.4, &quot;fillRule&quot;: &quot;evenodd&quot;, &quot;lineCap&quot;: &quot;round&quot;, &quot;lineJoin&quot;: &quot;round&quot;, &quot;opacity&quot;: 1.0, &quot;radius&quot;: 700, &quot;stroke&quot;: true, &quot;weight&quot;: 3}\n",
       "            ).addTo(map_0a0621243bae961cb10196f6cc8f3c7e);\n",
       "        \n",
       "    \n",
       "            var circle_274ed0dc410fcd753f13e15546803e4e = L.circle(\n",
       "                [59.94716380057492, 30.389656886399386],\n",
       "                {&quot;bubblingMouseEvents&quot;: true, &quot;color&quot;: &quot;green&quot;, &quot;dashArray&quot;: null, &quot;dashOffset&quot;: null, &quot;fill&quot;: true, &quot;fillColor&quot;: &quot;green&quot;, &quot;fillOpacity&quot;: 0.4, &quot;fillRule&quot;: &quot;evenodd&quot;, &quot;lineCap&quot;: &quot;round&quot;, &quot;lineJoin&quot;: &quot;round&quot;, &quot;opacity&quot;: 1.0, &quot;radius&quot;: 700, &quot;stroke&quot;: true, &quot;weight&quot;: 3}\n",
       "            ).addTo(map_0a0621243bae961cb10196f6cc8f3c7e);\n",
       "        \n",
       "    \n",
       "            var circle_d34925a51fa21383d7278a025a87f677 = L.circle(\n",
       "                [59.94716380057492, 30.357377113600613],\n",
       "                {&quot;bubblingMouseEvents&quot;: true, &quot;color&quot;: &quot;green&quot;, &quot;dashArray&quot;: null, &quot;dashOffset&quot;: null, &quot;fill&quot;: true, &quot;fillColor&quot;: &quot;green&quot;, &quot;fillOpacity&quot;: 0.4, &quot;fillRule&quot;: &quot;evenodd&quot;, &quot;lineCap&quot;: &quot;round&quot;, &quot;lineJoin&quot;: &quot;round&quot;, &quot;opacity&quot;: 1.0, &quot;radius&quot;: 700, &quot;stroke&quot;: true, &quot;weight&quot;: 3}\n",
       "            ).addTo(map_0a0621243bae961cb10196f6cc8f3c7e);\n",
       "        \n",
       "    \n",
       "            var circle_01f21b33380efe3806bf738040ef2aad = L.circle(\n",
       "                [59.93099419942508, 30.389656886399386],\n",
       "                {&quot;bubblingMouseEvents&quot;: true, &quot;color&quot;: &quot;green&quot;, &quot;dashArray&quot;: null, &quot;dashOffset&quot;: null, &quot;fill&quot;: true, &quot;fillColor&quot;: &quot;green&quot;, &quot;fillOpacity&quot;: 0.4, &quot;fillRule&quot;: &quot;evenodd&quot;, &quot;lineCap&quot;: &quot;round&quot;, &quot;lineJoin&quot;: &quot;round&quot;, &quot;opacity&quot;: 1.0, &quot;radius&quot;: 700, &quot;stroke&quot;: true, &quot;weight&quot;: 3}\n",
       "            ).addTo(map_0a0621243bae961cb10196f6cc8f3c7e);\n",
       "        \n",
       "    \n",
       "            var circle_a598944f7c0569f12d9fbe6573ed85d9 = L.circle(\n",
       "                [59.93099419942508, 30.357377113600613],\n",
       "                {&quot;bubblingMouseEvents&quot;: true, &quot;color&quot;: &quot;green&quot;, &quot;dashArray&quot;: null, &quot;dashOffset&quot;: null, &quot;fill&quot;: true, &quot;fillColor&quot;: &quot;green&quot;, &quot;fillOpacity&quot;: 0.4, &quot;fillRule&quot;: &quot;evenodd&quot;, &quot;lineCap&quot;: &quot;round&quot;, &quot;lineJoin&quot;: &quot;round&quot;, &quot;opacity&quot;: 1.0, &quot;radius&quot;: 700, &quot;stroke&quot;: true, &quot;weight&quot;: 3}\n",
       "            ).addTo(map_0a0621243bae961cb10196f6cc8f3c7e);\n",
       "        \n",
       "&lt;/script&gt;\n",
       "&lt;/html&gt;\" style=\"position:absolute;width:100%;height:100%;left:0;top:0;border:none !important;\" allowfullscreen webkitallowfullscreen mozallowfullscreen></iframe></div></div>"
      ],
      "text/plain": [
       "<folium.folium.Map at 0x16566de90>"
      ]
     },
     "execution_count": 10,
     "metadata": {},
     "output_type": "execute_result"
    }
   ],
   "source": [
    "import folium\n",
    "\n",
    "coord_off_12 = '30.373517,59.939079'  # Точка между офисами Дегтярный пер., д. 11Б и пер. Виленский, дом 14 литера А '\n",
    "lat = float(coord_off_12.split(\",\")[1])\n",
    "lon = float(coord_off_12.split(\",\")[0])\n",
    "shift_count_1 = 2\n",
    "shift_count_2 = 1\n",
    "distance_step = 900\n",
    "radius = 700\n",
    "\n",
    "coordinates = get_shifted_coordinates(lat, lon, shift_count_1, shift_count_2, distance_step)\n",
    "\n",
    "m = folium.Map(location=[lat, lon], zoom_start=14)\n",
    "\n",
    "folium.Marker([lat, lon], popup=\"Стартовая точка\").add_to(m)\n",
    "\n",
    "for direction, d_lat, d_lon in coordinates:\n",
    "      folium.Circle(\n",
    "          location=[d_lat, d_lon],\n",
    "          radius=radius,\n",
    "          color='blue' if direction in ['north', 'south', 'east', 'west'] else 'green',\n",
    "          fill=True,\n",
    "          fill_color='blue' if direction in ['north', 'south', 'east', 'west'] else 'green',\n",
    "          fill_opacity=0.4\n",
    "      ).add_to(m)\n",
    "\n",
    "# m.save(\"map_with_multiple_circles.html\")\n",
    "m"
   ]
  },
  {
   "cell_type": "markdown",
   "metadata": {},
   "source": [
    "Визуализация данного подхода"
   ]
  },
  {
   "cell_type": "markdown",
   "metadata": {
    "id": "jgbvYx6SerBr"
   },
   "source": [
    "#### Получение данных через API"
   ]
  },
  {
   "cell_type": "code",
   "execution_count": 183,
   "metadata": {
    "id": "4m5iSH8wfIaE"
   },
   "outputs": [],
   "source": [
    "API_KEY = \"API_KEY\"\n",
    "\n",
    "url = 'https://catalog.api.2gis.com/3.0/items'\n",
    "params = {\n",
    "    'key': API_KEY,\n",
    "    'q': 'рестораны',\n",
    "    'location': '30.373517,59.939079',  # Точка между офисами Дегтярный пер., д. 11Б и пер. Виленский, дом 14 литера А '\n",
    "    'radius': 700,  # метры\n",
    "    'type': 'branch',  # branch — компания\n",
    "    'fields':\n",
    "    'items.point,items.address,items.adm_div,items.full_address_name,items.geometry.centroid,items.rubrics,items.org,items.contact_groups,items.schedule,items.access_comment,items.access,items.capacity,items.description,items.external_content,items.flags,items.floors,items.floor_plans,items.is_paid,items.for_trucks,items.paving_type,items.is_incentive,items.purpose,items.level_count,items.links,items.links.database_entrances.apartments_info,items.name_ex,items.reviews,items.statistics,context_rubrics,dym,filters,hash,items.ads.options,items.attribute_groups,items.context,items.dates.deleted_at,items.dates.updated_at,items.dates,items.geometry.style,items.group,items.metarubrics,items.delivery,items.has_goods,items.has_pinned_goods,items.has_realty,items.has_audiogid,items.has_discount,items.has_exchange,items.is_main_in_group,items.city_alias,items.detailed_subtype,items.alias,items.caption,items.is_promoted,items.routes,items.directions,items.barrier,items.is_routing_available,items.entrance_display_name,items.locale,items.reg_bc_url,items.region_id,items.segment_id,items.stat,items.stop_factors,items.has_apartments_info,items.timezone,items.timezone_offset,items.comment,items.station_id,items.platforms,items.sources,items.structure_info.material,items.structure_info.apartments_count,items.structure_info.porch_count,items.structure_info.floor_type,items.structure_info.gas_type,items.structure_info.year_of_construction,items.structure_info.elevators_count,items.structure_info.is_in_emergency_state,items.structure_info.project_type,items.structure_info.chs_name,items.structure_info.chs_category,items.route_logo,items.order_with_cart,items.is_deleted,items.search_attributes,items.congestion,items.poi_category,items.has_dynamic_congestion,items.temporary_unavailable_atm_services,items.marker_alt,items.floor_id,items.purpose_code,request_type,search_attributes,widgets,items.name_back,items.value_back,items.ev_charging_station,items.ski_lift,items.has_ads_model',\n",
    "    'page_size': 10,\n",
    "    'page': 1,\n",
    "    'sort': 'distance'\n",
    "}"
   ]
  },
  {
   "cell_type": "code",
   "execution_count": 72,
   "metadata": {
    "colab": {
     "base_uri": "https://localhost:8080/"
    },
    "id": "tH_DI8e5bYxZ",
    "outputId": "5d768c61-c3d9-4e3b-8277-efb1ef72dd9a"
   },
   "outputs": [
    {
     "name": "stdout",
     "output_type": "stream",
     "text": [
      "\n",
      "Обработка 1 точки (рестораны)\n"
     ]
    },
    {
     "name": "stderr",
     "output_type": "stream",
     "text": [
      "Загрузка данных: 100%|████████████████████████████████████████| 5/5 [00:01<00:00,  3.17it/s, page=5]\n",
      "Загрузка данных: 100%|████████████████████████████████████████| 5/5 [00:01<00:00,  3.10it/s, page=5]\n",
      "Загрузка данных: 100%|████████████████████████████████████████| 5/5 [00:01<00:00,  3.45it/s, page=5]\n",
      "Загрузка данных: 100%|████████████████████████████████████████| 5/5 [00:01<00:00,  3.00it/s, page=5]\n",
      "Загрузка данных: 100%|████████████████████████████████████████| 5/5 [00:01<00:00,  3.34it/s, page=5]\n",
      "Загрузка данных: 100%|████████████████████████████████████████| 5/5 [00:01<00:00,  3.40it/s, page=5]\n",
      "Загрузка данных: 100%|████████████████████████████████████████| 5/5 [00:01<00:00,  3.11it/s, page=5]\n",
      "Загрузка данных: 100%|████████████████████████████████████████| 5/5 [00:01<00:00,  3.08it/s, page=5]\n",
      "Загрузка данных: 100%|████████████████████████████████████████| 5/5 [00:01<00:00,  3.23it/s, page=5]\n",
      "Загрузка данных: 100%|████████████████████████████████████████| 5/5 [00:01<00:00,  3.44it/s, page=5]\n",
      "Загрузка данных: 100%|████████████████████████████████████████| 5/5 [00:01<00:00,  3.61it/s, page=5]\n",
      "Загрузка данных: 100%|████████████████████████████████████████| 5/5 [00:01<00:00,  3.52it/s, page=5]\n",
      "Загрузка данных: 100%|████████████████████████████████████████| 5/5 [00:01<00:00,  3.62it/s, page=5]\n"
     ]
    },
    {
     "name": "stdout",
     "output_type": "stream",
     "text": [
      "\n",
      "Обработка 2 точки (рестораны)\n"
     ]
    },
    {
     "name": "stderr",
     "output_type": "stream",
     "text": [
      "Загрузка данных: 100%|████████████████████████████████████████| 5/5 [00:01<00:00,  3.51it/s, page=5]\n",
      "Загрузка данных: 100%|████████████████████████████████████████| 5/5 [00:01<00:00,  3.43it/s, page=5]\n",
      "Загрузка данных: 100%|████████████████████████████████████████| 5/5 [00:01<00:00,  3.23it/s, page=5]\n",
      "Загрузка данных: 100%|████████████████████████████████████████| 5/5 [00:01<00:00,  3.19it/s, page=5]\n",
      "Загрузка данных: 100%|████████████████████████████████████████| 5/5 [00:01<00:00,  3.07it/s, page=5]\n",
      "Загрузка данных: 100%|████████████████████████████████████████| 5/5 [00:01<00:00,  3.50it/s, page=5]\n",
      "Загрузка данных: 100%|████████████████████████████████████████| 5/5 [00:01<00:00,  3.48it/s, page=5]\n",
      "Загрузка данных: 100%|████████████████████████████████████████| 5/5 [00:01<00:00,  3.37it/s, page=5]\n",
      "Загрузка данных: 100%|████████████████████████████████████████| 5/5 [00:01<00:00,  3.37it/s, page=5]\n",
      "Загрузка данных: 100%|████████████████████████████████████████| 5/5 [00:01<00:00,  3.25it/s, page=5]\n",
      "Загрузка данных: 100%|████████████████████████████████████████| 5/5 [00:01<00:00,  3.39it/s, page=5]\n",
      "Загрузка данных: 100%|████████████████████████████████████████| 5/5 [00:01<00:00,  3.26it/s, page=5]\n",
      "Загрузка данных: 100%|████████████████████████████████████████| 5/5 [00:01<00:00,  3.71it/s, page=5]\n"
     ]
    },
    {
     "name": "stdout",
     "output_type": "stream",
     "text": [
      "\n",
      "Обработка 1 точки (кафе)\n"
     ]
    },
    {
     "name": "stderr",
     "output_type": "stream",
     "text": [
      "Загрузка данных: 100%|████████████████████████████████████████| 5/5 [00:01<00:00,  2.83it/s, page=5]\n",
      "Загрузка данных: 100%|████████████████████████████████████████| 5/5 [00:01<00:00,  2.68it/s, page=5]\n",
      "Загрузка данных: 100%|████████████████████████████████████████| 5/5 [00:01<00:00,  2.53it/s, page=5]\n",
      "Загрузка данных: 100%|████████████████████████████████████████| 5/5 [00:01<00:00,  3.00it/s, page=5]\n",
      "Загрузка данных: 100%|████████████████████████████████████████| 5/5 [00:02<00:00,  2.37it/s, page=5]\n",
      "Загрузка данных: 100%|████████████████████████████████████████| 5/5 [00:01<00:00,  2.89it/s, page=5]\n",
      "Загрузка данных: 100%|████████████████████████████████████████| 5/5 [00:01<00:00,  2.90it/s, page=5]\n",
      "Загрузка данных: 100%|████████████████████████████████████████| 5/5 [00:01<00:00,  3.18it/s, page=5]\n",
      "Загрузка данных: 100%|████████████████████████████████████████| 5/5 [00:01<00:00,  3.06it/s, page=5]\n",
      "Загрузка данных: 100%|████████████████████████████████████████| 5/5 [00:01<00:00,  2.68it/s, page=5]\n",
      "Загрузка данных: 100%|████████████████████████████████████████| 5/5 [00:01<00:00,  2.94it/s, page=5]\n",
      "Загрузка данных: 100%|████████████████████████████████████████| 5/5 [00:01<00:00,  2.71it/s, page=5]\n",
      "Загрузка данных: 100%|████████████████████████████████████████| 5/5 [00:01<00:00,  2.78it/s, page=5]\n"
     ]
    },
    {
     "name": "stdout",
     "output_type": "stream",
     "text": [
      "\n",
      "Обработка 2 точки (кафе)\n"
     ]
    },
    {
     "name": "stderr",
     "output_type": "stream",
     "text": [
      "Загрузка данных: 100%|████████████████████████████████████████| 5/5 [00:02<00:00,  2.45it/s, page=5]\n",
      "Загрузка данных: 100%|████████████████████████████████████████| 5/5 [00:01<00:00,  2.76it/s, page=5]\n",
      "Загрузка данных: 100%|████████████████████████████████████████| 5/5 [00:01<00:00,  2.70it/s, page=5]\n",
      "Загрузка данных: 100%|████████████████████████████████████████| 5/5 [00:01<00:00,  3.07it/s, page=5]\n",
      "Загрузка данных: 100%|████████████████████████████████████████| 5/5 [00:02<00:00,  1.94it/s, page=5]\n",
      "Загрузка данных: 100%|████████████████████████████████████████| 5/5 [00:01<00:00,  2.69it/s, page=5]\n",
      "Загрузка данных: 100%|████████████████████████████████████████| 5/5 [00:02<00:00,  2.46it/s, page=5]\n",
      "Загрузка данных: 100%|████████████████████████████████████████| 5/5 [00:01<00:00,  3.05it/s, page=5]\n",
      "Загрузка данных: 100%|████████████████████████████████████████| 5/5 [00:01<00:00,  3.04it/s, page=5]\n",
      "Загрузка данных: 100%|████████████████████████████████████████| 5/5 [00:01<00:00,  2.75it/s, page=5]\n",
      "Загрузка данных: 100%|████████████████████████████████████████| 5/5 [00:01<00:00,  3.00it/s, page=5]\n",
      "Загрузка данных: 100%|████████████████████████████████████████| 5/5 [00:01<00:00,  2.93it/s, page=5]\n",
      "Загрузка данных: 100%|████████████████████████████████████████| 5/5 [00:01<00:00,  2.71it/s, page=5]\n"
     ]
    }
   ],
   "source": [
    "coord_off = ['30.373517,59.939079', '30.323836,59.901766'] # Первая точка между офисами Дегтярный пер., д. 11Б и пер. Виленский, дом 14, а вторая офис на Киевская улица, 5к4\n",
    "numbers_off = [[1, 2], [3]]\n",
    "\n",
    "shift_count_1 = 2\n",
    "shift_count_2 = 1\n",
    "distance_step = 900\n",
    "radius = 700\n",
    "params['radius'] = radius\n",
    "max_pages = 5\n",
    "all_flat_data = []\n",
    "\n",
    "for name in ['рестораны', 'кафе']:\n",
    "    params['q'] = name\n",
    "    for i, coord in enumerate(coord_off):\n",
    "        print (f\"\\nОбработка {i+1} точки ({name})\")\n",
    "        lon, lat = map(float, coord.split(','))\n",
    "    \n",
    "        coordinates = get_shifted_coordinates(lat, lon, shift_count_1, shift_count_2, distance_step)\n",
    "        for direction, d_lat, d_lon in coordinates:\n",
    "            params['location'] = f'{d_lon},{d_lat}'\n",
    "            res = get_all_data(url, params, max_pages=max_pages, start_page = 1)\n",
    "            for rest in res:\n",
    "                for j in numbers_off[i]:  \n",
    "                    rest[f\"near_office_{j}\"] = True\n",
    "            all_flat_data.extend(res)"
   ]
  },
  {
   "cell_type": "markdown",
   "metadata": {},
   "source": [
    "Запрашиваем данные не только о ресторанах, но и о кафе"
   ]
  },
  {
   "cell_type": "code",
   "execution_count": 73,
   "metadata": {
    "id": "fJHm_dppj_ly"
   },
   "outputs": [],
   "source": [
    "df = pd.DataFrame(all_flat_data)"
   ]
  },
  {
   "cell_type": "code",
   "execution_count": 74,
   "metadata": {
    "colab": {
     "base_uri": "https://localhost:8080/",
     "height": 617
    },
    "id": "bqaQvhhskFe0",
    "outputId": "ea4bfd4c-c3f7-46e8-c6f5-d02abd86757e"
   },
   "outputs": [
    {
     "data": {
      "text/html": [
       "<div>\n",
       "<style scoped>\n",
       "    .dataframe tbody tr th:only-of-type {\n",
       "        vertical-align: middle;\n",
       "    }\n",
       "\n",
       "    .dataframe tbody tr th {\n",
       "        vertical-align: top;\n",
       "    }\n",
       "\n",
       "    .dataframe thead th {\n",
       "        text-align: right;\n",
       "    }\n",
       "</style>\n",
       "<table border=\"1\" class=\"dataframe\">\n",
       "  <thead>\n",
       "    <tr style=\"text-align: right;\">\n",
       "      <th></th>\n",
       "      <th>address_building_id</th>\n",
       "      <th>address_components_0_number</th>\n",
       "      <th>address_components_0_street</th>\n",
       "      <th>address_components_0_street_id</th>\n",
       "      <th>address_components_0_type</th>\n",
       "      <th>address_postcode</th>\n",
       "      <th>address_comment</th>\n",
       "      <th>address_name</th>\n",
       "      <th>adm_div_0_id</th>\n",
       "      <th>adm_div_0_name</th>\n",
       "      <th>...</th>\n",
       "      <th>links_nearest_parking_85_id</th>\n",
       "      <th>links_nearest_parking_86_id</th>\n",
       "      <th>links_nearest_parking_87_id</th>\n",
       "      <th>links_nearest_parking_88_id</th>\n",
       "      <th>links_nearest_parking_89_id</th>\n",
       "      <th>links_nearest_parking_90_id</th>\n",
       "      <th>links_nearest_parking_91_id</th>\n",
       "      <th>attribute_groups_7_attributes_5_id</th>\n",
       "      <th>attribute_groups_7_attributes_5_name</th>\n",
       "      <th>attribute_groups_7_attributes_5_tag</th>\n",
       "    </tr>\n",
       "  </thead>\n",
       "  <tbody>\n",
       "    <tr>\n",
       "      <th>0</th>\n",
       "      <td>5348660212708350</td>\n",
       "      <td>3</td>\n",
       "      <td>9-я Советская улица</td>\n",
       "      <td>5348763291879950</td>\n",
       "      <td>street_number</td>\n",
       "      <td>191036</td>\n",
       "      <td>1 этаж</td>\n",
       "      <td>9-я Советская улица, 3</td>\n",
       "      <td>1</td>\n",
       "      <td>Россия</td>\n",
       "      <td>...</td>\n",
       "      <td>NaN</td>\n",
       "      <td>NaN</td>\n",
       "      <td>NaN</td>\n",
       "      <td>NaN</td>\n",
       "      <td>NaN</td>\n",
       "      <td>NaN</td>\n",
       "      <td>NaN</td>\n",
       "      <td>NaN</td>\n",
       "      <td>NaN</td>\n",
       "      <td>NaN</td>\n",
       "    </tr>\n",
       "    <tr>\n",
       "      <th>1</th>\n",
       "      <td>5348660212708114</td>\n",
       "      <td>27</td>\n",
       "      <td>Суворовский проспект</td>\n",
       "      <td>5348763291879693</td>\n",
       "      <td>street_number</td>\n",
       "      <td>191036</td>\n",
       "      <td>1 этаж</td>\n",
       "      <td>Суворовский проспект, 27</td>\n",
       "      <td>1</td>\n",
       "      <td>Россия</td>\n",
       "      <td>...</td>\n",
       "      <td>NaN</td>\n",
       "      <td>NaN</td>\n",
       "      <td>NaN</td>\n",
       "      <td>NaN</td>\n",
       "      <td>NaN</td>\n",
       "      <td>NaN</td>\n",
       "      <td>NaN</td>\n",
       "      <td>NaN</td>\n",
       "      <td>NaN</td>\n",
       "      <td>NaN</td>\n",
       "    </tr>\n",
       "    <tr>\n",
       "      <th>2</th>\n",
       "      <td>5348660212708348</td>\n",
       "      <td>29</td>\n",
       "      <td>Греческий проспект</td>\n",
       "      <td>5348763291879834</td>\n",
       "      <td>street_number</td>\n",
       "      <td>191036</td>\n",
       "      <td>цокольный этаж</td>\n",
       "      <td>Греческий проспект, 29</td>\n",
       "      <td>1</td>\n",
       "      <td>Россия</td>\n",
       "      <td>...</td>\n",
       "      <td>NaN</td>\n",
       "      <td>NaN</td>\n",
       "      <td>NaN</td>\n",
       "      <td>NaN</td>\n",
       "      <td>NaN</td>\n",
       "      <td>NaN</td>\n",
       "      <td>NaN</td>\n",
       "      <td>NaN</td>\n",
       "      <td>NaN</td>\n",
       "      <td>NaN</td>\n",
       "    </tr>\n",
       "    <tr>\n",
       "      <th>3</th>\n",
       "      <td>5348660212794938</td>\n",
       "      <td>4а</td>\n",
       "      <td>8-я Советская улица</td>\n",
       "      <td>5348763291879943</td>\n",
       "      <td>street_number</td>\n",
       "      <td>191036</td>\n",
       "      <td>2 этаж</td>\n",
       "      <td>8-я Советская улица, 4а</td>\n",
       "      <td>1</td>\n",
       "      <td>Россия</td>\n",
       "      <td>...</td>\n",
       "      <td>NaN</td>\n",
       "      <td>NaN</td>\n",
       "      <td>NaN</td>\n",
       "      <td>NaN</td>\n",
       "      <td>NaN</td>\n",
       "      <td>NaN</td>\n",
       "      <td>NaN</td>\n",
       "      <td>NaN</td>\n",
       "      <td>NaN</td>\n",
       "      <td>NaN</td>\n",
       "    </tr>\n",
       "    <tr>\n",
       "      <th>4</th>\n",
       "      <td>5348660212708111</td>\n",
       "      <td>25</td>\n",
       "      <td>Суворовский проспект</td>\n",
       "      <td>5348763291879693</td>\n",
       "      <td>street_number</td>\n",
       "      <td>191036</td>\n",
       "      <td>1 этаж</td>\n",
       "      <td>Суворовский проспект, 25</td>\n",
       "      <td>1</td>\n",
       "      <td>Россия</td>\n",
       "      <td>...</td>\n",
       "      <td>NaN</td>\n",
       "      <td>NaN</td>\n",
       "      <td>NaN</td>\n",
       "      <td>NaN</td>\n",
       "      <td>NaN</td>\n",
       "      <td>NaN</td>\n",
       "      <td>NaN</td>\n",
       "      <td>NaN</td>\n",
       "      <td>NaN</td>\n",
       "      <td>NaN</td>\n",
       "    </tr>\n",
       "  </tbody>\n",
       "</table>\n",
       "<p>5 rows × 1033 columns</p>\n",
       "</div>"
      ],
      "text/plain": [
       "  address_building_id address_components_0_number address_components_0_street  \\\n",
       "0    5348660212708350                           3         9-я Советская улица   \n",
       "1    5348660212708114                          27        Суворовский проспект   \n",
       "2    5348660212708348                          29          Греческий проспект   \n",
       "3    5348660212794938                          4а         8-я Советская улица   \n",
       "4    5348660212708111                          25        Суворовский проспект   \n",
       "\n",
       "  address_components_0_street_id address_components_0_type address_postcode  \\\n",
       "0               5348763291879950             street_number           191036   \n",
       "1               5348763291879693             street_number           191036   \n",
       "2               5348763291879834             street_number           191036   \n",
       "3               5348763291879943             street_number           191036   \n",
       "4               5348763291879693             street_number           191036   \n",
       "\n",
       "  address_comment              address_name adm_div_0_id adm_div_0_name  ...  \\\n",
       "0          1 этаж    9-я Советская улица, 3            1         Россия  ...   \n",
       "1          1 этаж  Суворовский проспект, 27            1         Россия  ...   \n",
       "2  цокольный этаж    Греческий проспект, 29            1         Россия  ...   \n",
       "3          2 этаж   8-я Советская улица, 4а            1         Россия  ...   \n",
       "4          1 этаж  Суворовский проспект, 25            1         Россия  ...   \n",
       "\n",
       "  links_nearest_parking_85_id links_nearest_parking_86_id  \\\n",
       "0                         NaN                         NaN   \n",
       "1                         NaN                         NaN   \n",
       "2                         NaN                         NaN   \n",
       "3                         NaN                         NaN   \n",
       "4                         NaN                         NaN   \n",
       "\n",
       "  links_nearest_parking_87_id links_nearest_parking_88_id  \\\n",
       "0                         NaN                         NaN   \n",
       "1                         NaN                         NaN   \n",
       "2                         NaN                         NaN   \n",
       "3                         NaN                         NaN   \n",
       "4                         NaN                         NaN   \n",
       "\n",
       "  links_nearest_parking_89_id  links_nearest_parking_90_id  \\\n",
       "0                         NaN                          NaN   \n",
       "1                         NaN                          NaN   \n",
       "2                         NaN                          NaN   \n",
       "3                         NaN                          NaN   \n",
       "4                         NaN                          NaN   \n",
       "\n",
       "   links_nearest_parking_91_id attribute_groups_7_attributes_5_id  \\\n",
       "0                          NaN                                NaN   \n",
       "1                          NaN                                NaN   \n",
       "2                          NaN                                NaN   \n",
       "3                          NaN                                NaN   \n",
       "4                          NaN                                NaN   \n",
       "\n",
       "   attribute_groups_7_attributes_5_name attribute_groups_7_attributes_5_tag  \n",
       "0                                   NaN                                 NaN  \n",
       "1                                   NaN                                 NaN  \n",
       "2                                   NaN                                 NaN  \n",
       "3                                   NaN                                 NaN  \n",
       "4                                   NaN                                 NaN  \n",
       "\n",
       "[5 rows x 1033 columns]"
      ]
     },
     "execution_count": 74,
     "metadata": {},
     "output_type": "execute_result"
    }
   ],
   "source": [
    "df.head()"
   ]
  },
  {
   "cell_type": "code",
   "execution_count": 75,
   "metadata": {},
   "outputs": [],
   "source": [
    "df.to_csv('data/data_restaurants1.csv', index=False)"
   ]
  },
  {
   "cell_type": "code",
   "execution_count": 76,
   "metadata": {
    "colab": {
     "base_uri": "https://localhost:8080/"
    },
    "id": "0nxtoyRMkDHa",
    "outputId": "9d82f946-e48d-4246-d975-e02ab3b6cdbf"
   },
   "outputs": [
    {
     "name": "stdout",
     "output_type": "stream",
     "text": [
      "2600\n",
      "1029\n"
     ]
    }
   ],
   "source": [
    "print (len(df))\n",
    "df = df.drop_duplicates(subset='id', keep='first')\n",
    "print (len(df))"
   ]
  },
  {
   "cell_type": "markdown",
   "metadata": {},
   "source": [
    "Области пересекаются, поэтому мы выше удалили все дубликаты "
   ]
  },
  {
   "cell_type": "code",
   "execution_count": 77,
   "metadata": {
    "id": "jvMEyTZOmE30"
   },
   "outputs": [],
   "source": [
    "df.to_csv('data/data_restaurants2.csv', index=False)"
   ]
  },
  {
   "cell_type": "markdown",
   "metadata": {
    "id": "i5I7tcl6-BwS"
   },
   "source": [
    "### Получение данных от парсера"
   ]
  },
  {
   "cell_type": "markdown",
   "metadata": {},
   "source": [
    "Есть парсер, который собирает собирает информацию по ссылке 2GIS. С его помощью было получено более 1000 ресторанов Санкт-Петербурга, и эти данные обрабатываются и сохраняются для дальнейшего использования. Например, если человек решит пообедать не в одном из трех основных офисов, а в другом месте, то данные будут под рукой.\n",
    "\n",
    "Кроме того, рестораны, расположенные рядом с основными офисами, будут помечены отдельно. Это позволит значительно упростить поиск ближайшего ресторана к офису, потому что не придется искать среди всей базы."
   ]
  },
  {
   "cell_type": "code",
   "execution_count": 144,
   "metadata": {
    "id": "iwNBG0Fw-Bcb"
   },
   "outputs": [],
   "source": [
    "with open(\"data/data_from_parser.json\", \"r\", encoding=\"utf-8-sig\") as file:\n",
    "    data_from_parser = json.load(file)"
   ]
  },
  {
   "cell_type": "code",
   "execution_count": 145,
   "metadata": {
    "id": "bHFKgu5E-Ka-"
   },
   "outputs": [],
   "source": [
    "all_flat_data_from_parser = []\n",
    "for item in data_from_parser:\n",
    "    flat_data = flatten_json(item)\n",
    "    all_flat_data_from_parser.append(flat_data)\n",
    "df_from_parser = pd.DataFrame(all_flat_data_from_parser)"
   ]
  },
  {
   "cell_type": "code",
   "execution_count": 146,
   "metadata": {
    "colab": {
     "base_uri": "https://localhost:8080/"
    },
    "id": "lur06Nng-l63",
    "outputId": "a806ab1b-05ae-4041-aef6-9fd36fc1b613"
   },
   "outputs": [
    {
     "name": "stdout",
     "output_type": "stream",
     "text": [
      "1317\n",
      "1317\n"
     ]
    }
   ],
   "source": [
    "print (len(df_from_parser))\n",
    "df_from_parser = df_from_parser.drop_duplicates(subset='id', keep='first')\n",
    "print (len(df_from_parser))"
   ]
  },
  {
   "cell_type": "code",
   "execution_count": 147,
   "metadata": {},
   "outputs": [],
   "source": [
    "df_from_parser['id'] = df_from_parser['id'].apply(lambda x: x.split('_')[0])"
   ]
  },
  {
   "cell_type": "code",
   "execution_count": 148,
   "metadata": {
    "colab": {
     "base_uri": "https://localhost:8080/",
     "height": 215
    },
    "id": "ALMaLdHd3mBP",
    "outputId": "7dfca5ce-52a3-406d-e5d2-e84a922b4f3d"
   },
   "outputs": [
    {
     "data": {
      "text/html": [
       "<div>\n",
       "<style scoped>\n",
       "    .dataframe tbody tr th:only-of-type {\n",
       "        vertical-align: middle;\n",
       "    }\n",
       "\n",
       "    .dataframe tbody tr th {\n",
       "        vertical-align: top;\n",
       "    }\n",
       "\n",
       "    .dataframe thead th {\n",
       "        text-align: right;\n",
       "    }\n",
       "</style>\n",
       "<table border=\"1\" class=\"dataframe\">\n",
       "  <thead>\n",
       "    <tr style=\"text-align: right;\">\n",
       "      <th></th>\n",
       "      <th>address_name</th>\n",
       "      <th>name_ex_primary</th>\n",
       "      <th>name_ex_extension</th>\n",
       "      <th>reviews_general_rating</th>\n",
       "      <th>reviews_general_review_count</th>\n",
       "      <th>reviews_general_review_count_with_stars</th>\n",
       "      <th>links_entrances_0_geometry_points</th>\n",
       "    </tr>\n",
       "  </thead>\n",
       "  <tbody>\n",
       "    <tr>\n",
       "      <th>0</th>\n",
       "      <td>улица Льва Толстого, 9</td>\n",
       "      <td>Паруса на крыше</td>\n",
       "      <td>панорамный ресторан</td>\n",
       "      <td>4.6</td>\n",
       "      <td>2501.0</td>\n",
       "      <td>2909.0</td>\n",
       "      <td>POINT(30.315631395287664 59.965326500630383)</td>\n",
       "    </tr>\n",
       "    <tr>\n",
       "      <th>1</th>\n",
       "      <td>Невский проспект, 20</td>\n",
       "      <td>Большой Грузинский</td>\n",
       "      <td>ресторан</td>\n",
       "      <td>4.7</td>\n",
       "      <td>1205.0</td>\n",
       "      <td>6145.0</td>\n",
       "      <td>POINT(30.321680111421749 59.93613317547684)</td>\n",
       "    </tr>\n",
       "    <tr>\n",
       "      <th>2</th>\n",
       "      <td>2-я Советская улица, 12</td>\n",
       "      <td>Caribia</td>\n",
       "      <td>NaN</td>\n",
       "      <td>4.9</td>\n",
       "      <td>164.0</td>\n",
       "      <td>225.0</td>\n",
       "      <td>POINT(30.369720216185897 59.931498818572834)</td>\n",
       "    </tr>\n",
       "  </tbody>\n",
       "</table>\n",
       "</div>"
      ],
      "text/plain": [
       "              address_name     name_ex_primary    name_ex_extension  \\\n",
       "0   улица Льва Толстого, 9     Паруса на крыше  панорамный ресторан   \n",
       "1     Невский проспект, 20  Большой Грузинский             ресторан   \n",
       "2  2-я Советская улица, 12             Caribia                  NaN   \n",
       "\n",
       "   reviews_general_rating  reviews_general_review_count  \\\n",
       "0                     4.6                        2501.0   \n",
       "1                     4.7                        1205.0   \n",
       "2                     4.9                         164.0   \n",
       "\n",
       "   reviews_general_review_count_with_stars  \\\n",
       "0                                   2909.0   \n",
       "1                                   6145.0   \n",
       "2                                    225.0   \n",
       "\n",
       "              links_entrances_0_geometry_points  \n",
       "0  POINT(30.315631395287664 59.965326500630383)  \n",
       "1   POINT(30.321680111421749 59.93613317547684)  \n",
       "2  POINT(30.369720216185897 59.931498818572834)  "
      ]
     },
     "execution_count": 148,
     "metadata": {},
     "output_type": "execute_result"
    }
   ],
   "source": [
    "df_from_parser[['address_name',\n",
    "    'name_ex_primary', 'name_ex_extension',\n",
    "    'reviews_general_rating','reviews_general_review_count', 'reviews_general_review_count_with_stars',\n",
    "    \"links_entrances_0_geometry_points\"]].head(3)"
   ]
  },
  {
   "cell_type": "code",
   "execution_count": 149,
   "metadata": {
    "id": "xDsKMkld_CZ5"
   },
   "outputs": [],
   "source": [
    "df_from_parser.to_csv('data/data_restaurants_from_parser.csv', index=False)"
   ]
  },
  {
   "cell_type": "markdown",
   "metadata": {
    "id": "1LrAW6fOYbZr"
   },
   "source": [
    "### Обработка полученных данных"
   ]
  },
  {
   "cell_type": "markdown",
   "metadata": {
    "id": "rGYJVAUywvg5"
   },
   "source": [
    "#### Удаляем неинформативные столбцы\n"
   ]
  },
  {
   "cell_type": "code",
   "execution_count": 151,
   "metadata": {},
   "outputs": [],
   "source": [
    "df = pd.read_csv('data/data_restaurants2.csv');\n",
    "df_from_parser = pd.read_csv('data/data_restaurants_from_parser.csv');"
   ]
  },
  {
   "cell_type": "code",
   "execution_count": 154,
   "metadata": {},
   "outputs": [
    {
     "name": "stdout",
     "output_type": "stream",
     "text": [
      "1317\n",
      "804\n"
     ]
    }
   ],
   "source": [
    "print (len(df_from_parser))\n",
    "df_from_parser = df_from_parser[~df_from_parser['id'].isin(df['id'])]\n",
    "print (len(df_from_parser))"
   ]
  },
  {
   "cell_type": "code",
   "execution_count": 156,
   "metadata": {},
   "outputs": [],
   "source": [
    "df_cleaned = pd.concat([df, df_from_parser], ignore_index=True)"
   ]
  },
  {
   "cell_type": "code",
   "execution_count": 159,
   "metadata": {
    "id": "xRQ29ceG9-pL"
   },
   "outputs": [],
   "source": [
    "# df_cleaned = df\n",
    "df_cleaned = df_cleaned.loc[:, ~df_cleaned.columns.str.startswith('links_nearest_')] # убираем информацию о ближайших стациях метро и парковках\n",
    "df_cleaned = df_cleaned.loc[:, ~ df_cleaned.columns.str.contains('attributes_\\d+_id')] # убираем id атрибутов (тегов)\n",
    "df_cleaned = df_cleaned.loc[:, ~ df_cleaned.columns.str.contains('attributes_\\d+_tag')] # убираем id атрибутов (тегов)\n",
    "\n",
    "df_cleaned = df_cleaned.loc[:, ~ df_cleaned.columns.str.contains('attribute_groups_\\d+_icon_url')] # убираем url картонок для групп информации (меню, напитки и тд)\n",
    "\n",
    "#убираем информацию о том, что данная группа атрибутов является основной для данного объекта или типа объектов\n",
    "df_cleaned = df_cleaned.loc[:, ~ df_cleaned.columns.str.contains('_is_primary')]\n",
    "\n",
    "#убираем название тегов\n",
    "df_cleaned = df_cleaned.loc[:, ~ df_cleaned.columns.str.contains('_tag')]\n",
    "\n",
    "#убираем список идентификаторов рубрик, к которым относится эта группа атрибутов\n",
    "df_cleaned = df_cleaned.loc[:, ~ df_cleaned.columns.str.contains('_rubric_ids')]\n",
    "\n",
    "\n",
    "#убираем лишнюю информацию о стране и городе\n",
    "df_cleaned.drop([ 'address_components_0_street_id',\n",
    " 'address_components_0_type',\n",
    " 'address_postcode',\n",
    " 'adm_div_0_id',\n",
    " 'adm_div_0_name',\n",
    " 'adm_div_0_type',\n",
    " 'adm_div_1_id',\n",
    " 'adm_div_1_type',\n",
    " 'adm_div_2_city_alias',\n",
    " 'adm_div_2_flags_is_default',\n",
    " 'adm_div_2_flags_is_region_center',\n",
    " 'adm_div_2_id',\n",
    " 'adm_div_2_is_default',\n",
    " 'adm_div_2_type',\n",
    " 'adm_div_3_id',\n",
    " 'adm_div_3_type',\n",
    " 'adm_div_4_detailed_subtype',\n",
    " 'adm_div_4_id',\n",
    " 'adm_div_4_type',\n",
    " 'alias'], axis=1, inplace=True, errors='ignore')\n",
    "\n",
    "df_cleaned = df_cleaned.loc[:, ~ df_cleaned.columns.str.contains('_type')]\n",
    "\n",
    "#убираем булевые неинформативные данные\n",
    "df_cleaned = df_cleaned.loc[:, ~ df_cleaned.columns.str.contains('_is_context')]\n",
    "df_cleaned.drop([ 'has_ads_model',\n",
    " 'has_apartments_info',\n",
    " 'has_audiogid',\n",
    " 'has_discount',\n",
    " 'has_dynamic_congestion',\n",
    " 'has_exchange',\n",
    " 'has_goods',\n",
    " 'has_pinned_goods',\n",
    " 'has_realty',\n",
    " 'is_promoted',\n",
    " 'is_routing_available'], axis=1, inplace=True, errors='ignore')\n",
    "\n",
    "\n",
    "df_cleaned.drop([ 'marker_alt', 'name_ex_short_name', 'org_branch_count', 'org_name', 'poi_category', 'region_id',\n",
    " 'reviews_items_0_is_reviewable',\n",
    " 'reviews_items_1_is_reviewable',\n",
    " 'reviews_items_1_rating',\n",
    " 'reviews_items_1_review_count',\n",
    " 'reviews_org_rating',\n",
    " 'reviews_org_review_count',\n",
    " 'reviews_org_review_count_with_stars',\n",
    " 'reviews_rating',\n",
    " 'reviews_review_count',\n",
    " 'rubrics_0_alias',\n",
    " 'rubrics_0_id',\n",
    " 'rubrics_0_kind',\n",
    " 'rubrics_0_name',\n",
    " 'rubrics_0_parent_id',\n",
    " 'rubrics_0_short_id', 'caption',\n",
    " 'links_entrances_0_is_visible_on_map', 'locale', 'reg_bc_url',\n",
    " 'segment_id',\t'stat_adst',\t'stat_is_advertised',\t'stat_rubr',\t'timezone',\t'timezone_offset',\t'type', 'address_building_name',\n",
    " 'dates_created_at','dates_updated_at','flags_photos', 'org_id', 'city_alias'], axis=1, inplace=True, errors='ignore')\n",
    "\n",
    "df_cleaned = df_cleaned.loc[:, ~ df_cleaned.columns.str.contains('external_content')]\n",
    "\n",
    "\n",
    "df_cleaned = df_cleaned.loc[:, ~ df_cleaned.columns.str.contains('rubrics_\\d+_alias')]\n",
    "df_cleaned = df_cleaned.loc[:, ~ df_cleaned.columns.str.contains('rubrics_\\d+_kind')]\n",
    "df_cleaned = df_cleaned.loc[:, ~ df_cleaned.columns.str.contains('rubrics_\\d+_id')]\n",
    "df_cleaned = df_cleaned.loc[:, ~ df_cleaned.columns.str.contains('rubrics_\\d+_parent_id')]\n",
    "df_cleaned = df_cleaned.loc[:, ~ df_cleaned.columns.str.contains('rubrics_\\d+_short_id')]\n",
    "df_cleaned = df_cleaned.loc[:, ~ df_cleaned.columns.str.contains('is_reviewable')]\n",
    "df_cleaned = df_cleaned.loc[:, ~ df_cleaned.columns.str.contains('is_award')]\n",
    "df_cleaned = df_cleaned.loc[:, ~ df_cleaned.columns.str.contains('_icon_url')]\n",
    "df_cleaned = df_cleaned.loc[:, ~ df_cleaned.columns.str.contains('_recommendation_count')]\n",
    "df_cleaned = df_cleaned.loc[:, ~ df_cleaned.columns.str.contains('flags_badges_')]\n",
    "df_cleaned = df_cleaned.loc[:, ~ df_cleaned.columns.str.contains('flags_badges_')]\n",
    "\n",
    "\n",
    "\n",
    "# Удаляем лишнюю информацию о месте\n",
    "df_cleaned = df_cleaned.loc[:, ~ df_cleaned.columns.str.contains('_geometry_normals')]\n",
    "df_cleaned = df_cleaned.loc[:, ~ df_cleaned.columns.str.contains('_geometry_vectors')]\n",
    "df_cleaned = df_cleaned.loc[:, ~ df_cleaned.columns.str.contains('links_entrances_\\d+_id')]\n",
    "# df_cleaned.drop([ 'point_lat','point_lon'], axis=1, inplace=True, errors='ignore')"
   ]
  },
  {
   "cell_type": "code",
   "execution_count": 160,
   "metadata": {
    "id": "r123Dl4VDFv-"
   },
   "outputs": [],
   "source": [
    "df_cleaned.to_csv('data/data_restaurants_cleaned.csv', index=False)"
   ]
  },
  {
   "cell_type": "markdown",
   "metadata": {
    "id": "k2Wc7ojvUBjs"
   },
   "source": [
    "#### Модель для классификации блюд"
   ]
  },
  {
   "cell_type": "code",
   "execution_count": 161,
   "metadata": {
    "colab": {
     "base_uri": "https://localhost:8080/"
    },
    "id": "KwW9C8cVUTAD",
    "outputId": "b26f5e60-53f9-45ee-dd94-25bbb53b5d89"
   },
   "outputs": [
    {
     "name": "stderr",
     "output_type": "stream",
     "text": [
      "Some weights of BertForSequenceClassification were not initialized from the model checkpoint at DeepPavlov/rubert-base-cased and are newly initialized: ['classifier.bias', 'classifier.weight']\n",
      "You should probably TRAIN this model on a down-stream task to be able to use it for predictions and inference.\n"
     ]
    }
   ],
   "source": [
    "import pandas as pd\n",
    "import torch\n",
    "from torch.utils.data import DataLoader, TensorDataset\n",
    "from transformers import BertTokenizer, BertForSequenceClassification\n",
    "\n",
    "model_name = \"DeepPavlov/rubert-base-cased\"\n",
    "model = BertForSequenceClassification.from_pretrained(model_name, num_labels=2)\n",
    "model.load_state_dict(torch.load('models/dish_classifier/dish_classifier_model.pth'))\n",
    "model.eval()\n",
    "\n",
    "tokenizer = BertTokenizer.from_pretrained('models/dish_classifier/dish_tokenizer')\n",
    "\n",
    "device = \"cpu\" #torch.device(\"cuda\" if torch.cuda.is_available() else \"cpu\")\n",
    "model.to(device);"
   ]
  },
  {
   "cell_type": "code",
   "execution_count": 162,
   "metadata": {
    "id": "rPKLbpkwUHqh"
   },
   "outputs": [],
   "source": [
    "def tokenize_function(texts):\n",
    "    return tokenizer(texts, padding=True, truncation=True, max_length=128)\n",
    "\n",
    "def classify_dishes_for_row(row, model, tokenizer):\n",
    "    dishes = set()\n",
    "\n",
    "    texts = []\n",
    "    for col, val in row.items():\n",
    "        texts.append(str(val))\n",
    "\n",
    "    if not texts:\n",
    "        return dishes\n",
    "\n",
    "    inputs = tokenize_function(texts)\n",
    "\n",
    "    dataset = TensorDataset(\n",
    "        torch.tensor(inputs['input_ids']),\n",
    "        torch.tensor(inputs['attention_mask'])\n",
    "    )\n",
    "    dataloader = DataLoader(dataset, batch_size=20)\n",
    "\n",
    "    model.eval()\n",
    "    with torch.no_grad():\n",
    "        for batch in dataloader:\n",
    "            input_ids, attention_mask = [x.to(device) for x in batch]\n",
    "            outputs = model(input_ids=input_ids, attention_mask=attention_mask)\n",
    "            logits = outputs.logits\n",
    "\n",
    "            predictions = torch.argmax(logits, dim=-1).cpu().numpy()\n",
    "\n",
    "            for prediction, text in zip(predictions, texts):\n",
    "                if prediction == 1:  # 1 - это блюдо\n",
    "                    dishes.add(text)\n",
    "\n",
    "    return dishes"
   ]
  },
  {
   "cell_type": "markdown",
   "metadata": {
    "id": "sF3T5lIow3ky"
   },
   "source": [
    "#### Разбиваем столбцы на группы по тематике\n"
   ]
  },
  {
   "cell_type": "code",
   "execution_count": null,
   "metadata": {},
   "outputs": [],
   "source": [
    "df_processed = pd.DataFrame()\n",
    "\n",
    "# Обработка времени работы (создание названия колонок)\n",
    "working_hours_col = []\n",
    "for day in ['Mon', 'Tue', 'Wed', 'Thu', 'Fri', 'Sat', 'Sun']:\n",
    "    working_hours_col.append(f'schedule_{day}_working_hours_0_from')\n",
    "    working_hours_col.append(f'schedule_{day}_working_hours_0_to')\n",
    "\n",
    "\n",
    "\n",
    "# Обрабатываем данные по условиям\n",
    "for index, row in df_cleaned.iterrows():\n",
    "    row_copy = row.copy()\n",
    "    row_copy.drop(working_hours_col, inplace=True)\n",
    "    \n",
    "    near_office_columns = [col for col in df_cleaned.columns if col.startswith('near_office')]\n",
    "    main_info_col = ['name', 'reviews_general_rating', # Основная инфа 'full_address_name',\n",
    "                     'id', 'name_ex_extension', 'name_ex_primary', # Подробнее про название\n",
    "                     'address_building_id', 'address_components_0_number','address_components_0_street', # Подробнее про расположение\n",
    "                     'address_name', 'adm_div_1_name', 'adm_div_2_name', 'adm_div_3_name', 'adm_div_4_name', # Подробнее про расположение\n",
    "                     'links_entrances_0_geometry_points', 'point_lat','point_lon', # Координата входа в заведение\n",
    "                     'reviews_general_review_count', 'reviews_general_review_count_with_stars' # Подробнее про рейтинг\n",
    "                     ]\n",
    "    main_info_col.extend(near_office_columns)\n",
    "    \n",
    "    average_bill_col = []\n",
    "    payment_methods_col = []\n",
    "    cuisines_col = []\n",
    "    section_titles_col = []\n",
    "\n",
    "    average_bills_text = []\n",
    "    average_bill = set()\n",
    "    payment_methods = set()\n",
    "    cuisines = set()\n",
    "\n",
    "\n",
    "    # Обработка основной информации\n",
    "    df_processed.loc[index, main_info_col] = row_copy[main_info_col].values.tolist()\n",
    "    row_copy.drop(main_info_col, inplace=True, errors='ignore')\n",
    "    row_copy = row_copy.dropna(how='all')\n",
    "\n",
    "    # Обработка колонок c названиями категорий и разных услуг\n",
    "    section_titles = [\"Меню\", \"Напитки\", \"Способы оплаты\", 'Ресторан / Кафе', 'Ресторан', 'Кафе', 'Услуги', 'Доставка', 'Дресс-код', 'Дополнительно', 'Можно с собакой', 'Пандус', 'Танцпол', 'Поминальные обеды', 'Настольные игры', 'Проведение банкетов']\n",
    "    for i, val in row_copy.items():\n",
    "        if any(word in str(val) for word in section_titles):\n",
    "          section_titles_col.append(i)\n",
    "    row_copy.drop(section_titles_col, inplace=True)\n",
    "\n",
    "\n",
    "    # Обработка колонки со Средним чеком\n",
    "    for i, val in row_copy.items():\n",
    "        if 'Средний чек' in str(val):\n",
    "          average_bill_col.append(i)\n",
    "          average_bills_text.append(val)\n",
    "    for val in average_bills_text:\n",
    "        number = re.search(r'\\d+', str(val))\n",
    "        if number:\n",
    "            average_bill.add(int(number.group(0)))\n",
    "    row_copy.drop(average_bill_col, inplace=True)\n",
    "\n",
    "    # Обработка Способов оплаты\n",
    "    payment_methods_all = [\"Наличный расчёт\", \"Оплата по QR-коду\",\n",
    "                   \"Оплата картой\", \"Оплата через банк\",\n",
    "                   \"Перевод с карты\"]\n",
    "    for i, val in row_copy.items():\n",
    "        if any(word in str(val) for word in payment_methods_all):\n",
    "          payment_methods_col.append(i)\n",
    "          payment_methods.add(val)\n",
    "    row_copy.drop(payment_methods_col, inplace=True)\n",
    "\n",
    "\n",
    "    # Обработка Разных видов кухни\n",
    "    for i, val in row_copy.items():\n",
    "        if 'кухня' in str(val).lower() and len(str(val))<70:\n",
    "          cuisines_col.append(i)\n",
    "          if re.match(r'^[a-zа-яё]+ кухня$', str(val).lower()):\n",
    "            cuisines.add(val)\n",
    "    row_copy.drop(cuisines_col, inplace=True)\n",
    "\n",
    "    # Записываем уникальные значения в итоговые колонки\n",
    "    if average_bill:\n",
    "        df_processed.at[index, 'Average bill'] = max(average_bill)\n",
    "    if payment_methods:\n",
    "        df_processed.at[index, 'Payment'] = '; '.join(payment_methods)\n",
    "    if cuisines:\n",
    "        df_processed.at[index, 'Cuisine'] = '; '.join(cuisines)\n",
    "\n",
    "\n",
    "    # Обработка дополнительных признаков (Чай с собой; Кофе с собой; Заказ навынос; Заказ столиков)\n",
    "    add_params_col = []\n",
    "    for i, val in row_copy.items():\n",
    "        if 'чай с собой' in str(val).lower() or 'кофе с собой' in str(val).lower():\n",
    "          df_processed.at[index, 'has_tea_coffee_takeaway'] = True\n",
    "          add_params_col.append(i)\n",
    "        elif 'заказ навынос' in str(val).lower() :\n",
    "          df_processed.at[index, 'has_takeaway'] = True\n",
    "          add_params_col.append(i)\n",
    "        elif 'заказ столиков' in str(val).lower() :\n",
    "          df_processed.at[index, 'has_reservations'] = True\n",
    "          add_params_col.append(i)\n",
    "        elif 'wi-fi' in str(val).lower() :\n",
    "          df_processed.at[index, 'has_wifi'] = True\n",
    "          add_params_col.append(i)\n",
    "        elif 'живая музыка' in str(val).lower() :\n",
    "          df_processed.at[index, 'has_live_music'] = True\n",
    "          add_params_col.append(i)\n",
    "        elif 'vip-зал' in str(val).lower() :\n",
    "          df_processed.at[index, 'has_vip_lounge'] = True\n",
    "          add_params_col.append(i)\n",
    "        elif 'летняя терраса' in str(val).lower() :\n",
    "          df_processed.at[index, 'has_summer_terrace'] = True\n",
    "          add_params_col.append(i)\n",
    "        elif 'банкетные залы' in str(val).lower() :\n",
    "          df_processed.at[index, 'has_banquet_halls'] = True\n",
    "          add_params_col.append(i)\n",
    "            \n",
    "        elif 'ланч' in str(val).lower() :\n",
    "          df_processed.at[index, 'has_lunch'] = True\n",
    "          add_params_col.append(i)\n",
    "          if '₽' in str(val).lower():\n",
    "            number = re.search(r'\\d+', str(val))\n",
    "            if number:\n",
    "                df_processed.at[index, 'lunch_price_start'] = int(number.group(0))\n",
    "        elif 'завтрак' in str(val).lower() :\n",
    "            df_processed.at[index, 'has_breakfast'] = True\n",
    "            add_params_col.append(i)\n",
    "            breakfast_pattern = r'Завтрак (\\d{2}:\\d{2})-(\\d{2}:\\d{2})'\n",
    "    \n",
    "            res = re.search(breakfast_pattern, str(val).lower())\n",
    "            if res:\n",
    "                df_processed.at[index, 'breakfast_time_start'] = int(res.group(1))\n",
    "                df_processed.at[index, 'breakfast_time_end'] = int(res.group(2))\n",
    "        \n",
    "        elif 'этаж' in str(val).lower() :\n",
    "            add_params_col.append(i)\n",
    "            pattern = r\"(\\d+)(?:\\s*-\\s*(\\d+))?\\s*этаж(?:ей)?\"\n",
    "            res = re.search(pattern, str(val).lower())\n",
    "            if res:\n",
    "                if res.group(2):\n",
    "                    df_processed.at[index, 'floor1'] = int(res.group(1))\n",
    "                    df_processed.at[index, 'floor2'] = int(res.group(2))\n",
    "                else:\n",
    "                    df_processed.at[index, 'floor1'] = int(res.group(1))\n",
    "                    df_processed.at[index, 'floor2'] = int(res.group(1))\n",
    "        \n",
    "        elif re.search(r'\\d+', str(val)):\n",
    "          add_params_col.append(i)\n",
    "        elif 'ноутбук' in str(val).lower() :\n",
    "          add_params_col.append(i)\n",
    "        elif 'мест' in str(val).lower() :\n",
    "          add_params_col.append(i)\n",
    "        elif 'человек' in str(val).lower() :\n",
    "          add_params_col.append(i)\n",
    "        elif 'помещение' in str(val).lower() :\n",
    "          add_params_col.append(i)\n",
    "        elif 'премия' in str(val).lower() :\n",
    "          add_params_col.append(i)\n",
    "        elif 'лучшее' in str(val).lower() :\n",
    "          add_params_col.append(i)\n",
    "        elif 'лучший' in str(val).lower() :\n",
    "          add_params_col.append(i)\n",
    "        elif 'false' in str(val).lower() :\n",
    "          add_params_col.append(i)\n",
    "        elif 'true' in str(val).lower() :\n",
    "          add_params_col.append(i)\n",
    "\n",
    "    row_copy.drop(add_params_col, inplace=True)\n",
    "\n",
    "    dishes = classify_dishes_for_row(row_copy, model, tokenizer)\n",
    "    if dishes:\n",
    "        df_processed.at[index, 'Dishes'] = '; '.join(dishes)\n",
    "\n",
    "\n",
    "def convert_to_datetime(time_str):\n",
    "    if pd.isna(time_str):\n",
    "        return None\n",
    "    if time_str == '24:00':\n",
    "        time_str = '00:00'\n",
    "    return datetime.strptime(time_str, '%H:%M').time()\n",
    "\n",
    "for day in ['Mon', 'Tue', 'Wed', 'Thu', 'Fri', 'Sat', 'Sun']:\n",
    "    from_col = f'schedule_{day}_working_hours_0_from'\n",
    "    to_col = f'schedule_{day}_working_hours_0_to'\n",
    "    df_processed[f'{day}_from'] = df_cleaned[from_col].apply(convert_to_datetime)\n",
    "    df_processed[f'{day}_to'] = df_cleaned[to_col].apply(convert_to_datetime)"
   ]
  },
  {
   "cell_type": "code",
   "execution_count": 167,
   "metadata": {
    "colab": {
     "base_uri": "https://localhost:8080/"
    },
    "id": "2AvIT2r3xvCp",
    "outputId": "86749de0-c088-4452-9d3c-69d3029627cc"
   },
   "outputs": [
    {
     "data": {
      "text/plain": [
       "array(['Детское меню; Стейк-хаус; Салаты; Картофель-фри; Куриные крылышки; Десерты; Шведский стол; Супы; Мидии; Паста; Горячие вторые блюда; Бургеры; Стейки; Пельмени',\n",
       "       'Салаты; Десерты; Кондитерская; Глинтвейн; Супы; Горячие вторые блюда; Паста',\n",
       "       'Паста; Супы; Пицца; Римская пицца'], dtype=object)"
      ]
     },
     "execution_count": 167,
     "metadata": {},
     "output_type": "execute_result"
    }
   ],
   "source": [
    "(df_processed[\"Dishes\"].values)[:3]"
   ]
  },
  {
   "cell_type": "code",
   "execution_count": 168,
   "metadata": {},
   "outputs": [],
   "source": [
    "df_processed['id'] = df_processed['id'].astype(int)\n",
    "df_processed['address_building_id'] = df_processed['address_building_id'].astype(int)"
   ]
  },
  {
   "cell_type": "code",
   "execution_count": 169,
   "metadata": {
    "id": "YgNVGz33U08f"
   },
   "outputs": [],
   "source": [
    "df_processed.to_csv('data/data_restaurants_processed.csv', index=False)"
   ]
  },
  {
   "cell_type": "markdown",
   "metadata": {
    "id": "x4KxPpLl_X7o"
   },
   "source": [
    "#### Добавляем подсчет расстояния до каждого из трех офисов"
   ]
  },
  {
   "cell_type": "code",
   "execution_count": 170,
   "metadata": {
    "id": "wrvDcC9paeLC"
   },
   "outputs": [],
   "source": [
    "import math\n",
    "\n",
    "def haversine(lat1, lon1, lat2, lon2):\n",
    "    R = 6371000\n",
    "\n",
    "    phi1 = math.radians(lat1)\n",
    "    phi2 = math.radians(lat2)\n",
    "    delta_phi = math.radians(lat2 - lat1)\n",
    "    delta_lambda = math.radians(lon2 - lon1)\n",
    "\n",
    "    a = math.sin(delta_phi / 2)**2 + math.cos(phi1) * math.cos(phi2) * math.sin(delta_lambda / 2)**2\n",
    "    c = 2 * math.atan2(math.sqrt(a), math.sqrt(1 - a))\n",
    "\n",
    "    distance = R * c\n",
    "    return distance\n",
    "\n",
    "def time_to_travel(lat1, lon1, lat2, lon2, walking_speed_kmh=5):\n",
    "    distance = haversine(lat1, lon1, lat2, lon2)\n",
    "\n",
    "    walking_speed_ms = (walking_speed_kmh * 1000) / 3600 # из км/ч в м/с\n",
    "\n",
    "    time_seconds = distance / walking_speed_ms # время в пути в секундах\n",
    "\n",
    "    time_minutes = time_seconds / 60 # время в пути в минутах\n",
    "\n",
    "    return round(distance, 2), round(time_minutes, 2)"
   ]
  },
  {
   "cell_type": "code",
   "execution_count": 171,
   "metadata": {
    "id": "R3lu5ytoZeFe"
   },
   "outputs": [],
   "source": [
    "office_coordinates = [\n",
    "    (59.940289, 30.369587),  # пер. Виленский, дом 14 литера А\n",
    "    (59.938563, 30.384499),  # Дегтярный пер., д. 11Б\n",
    "    (59.901766, 30.323836)   # Киевская ул., 5 корпус 4\n",
    "]\n",
    "\n",
    "for _, restaurant in df_processed.iterrows():\n",
    "    restaurant_point = (restaurant['point_lat'], restaurant['point_lon'])\n",
    "\n",
    "    for office_idx, office in enumerate(office_coordinates):\n",
    "        distance, duration = time_to_travel(office[0], office[1], restaurant['point_lat'], restaurant['point_lon'])\n",
    "\n",
    "        df_processed.loc[restaurant.name, f'office_{office_idx+1}_dist'] = distance\n",
    "        df_processed.loc[restaurant.name, f'office_{office_idx+1}_time'] = duration"
   ]
  },
  {
   "cell_type": "code",
   "execution_count": 172,
   "metadata": {
    "id": "8Nn-h1w0eFWL"
   },
   "outputs": [],
   "source": [
    "df_processed.to_csv('data/data_restaurants_processed2.csv', index=False)"
   ]
  },
  {
   "cell_type": "code",
   "execution_count": 173,
   "metadata": {
    "colab": {
     "base_uri": "https://localhost:8080/",
     "height": 738
    },
    "id": "IWuMTKwVBuwb",
    "outputId": "c23be942-63ec-4bab-bc73-4b2105d9dd1d"
   },
   "outputs": [
    {
     "data": {
      "text/html": [
       "<div>\n",
       "<style scoped>\n",
       "    .dataframe tbody tr th:only-of-type {\n",
       "        vertical-align: middle;\n",
       "    }\n",
       "\n",
       "    .dataframe tbody tr th {\n",
       "        vertical-align: top;\n",
       "    }\n",
       "\n",
       "    .dataframe thead th {\n",
       "        text-align: right;\n",
       "    }\n",
       "</style>\n",
       "<table border=\"1\" class=\"dataframe\">\n",
       "  <thead>\n",
       "    <tr style=\"text-align: right;\">\n",
       "      <th></th>\n",
       "      <th>name</th>\n",
       "      <th>reviews_general_rating</th>\n",
       "      <th>id</th>\n",
       "      <th>name_ex_extension</th>\n",
       "      <th>name_ex_primary</th>\n",
       "      <th>address_building_id</th>\n",
       "      <th>address_components_0_number</th>\n",
       "      <th>address_components_0_street</th>\n",
       "      <th>address_name</th>\n",
       "      <th>adm_div_1_name</th>\n",
       "      <th>...</th>\n",
       "      <th>Sat_from</th>\n",
       "      <th>Sat_to</th>\n",
       "      <th>Sun_from</th>\n",
       "      <th>Sun_to</th>\n",
       "      <th>office_1_dist</th>\n",
       "      <th>office_1_time</th>\n",
       "      <th>office_2_dist</th>\n",
       "      <th>office_2_time</th>\n",
       "      <th>office_3_dist</th>\n",
       "      <th>office_3_time</th>\n",
       "    </tr>\n",
       "  </thead>\n",
       "  <tbody>\n",
       "    <tr>\n",
       "      <th>0</th>\n",
       "      <td>Harbor, ресторан</td>\n",
       "      <td>4.6</td>\n",
       "      <td>70000001062703679</td>\n",
       "      <td>ресторан</td>\n",
       "      <td>Harbor</td>\n",
       "      <td>5348660212708350</td>\n",
       "      <td>3</td>\n",
       "      <td>9-я Советская улица</td>\n",
       "      <td>9-я Советская улица, 3</td>\n",
       "      <td>Санкт-Петербург</td>\n",
       "      <td>...</td>\n",
       "      <td>07:30:00</td>\n",
       "      <td>23:00:00</td>\n",
       "      <td>07:30:00</td>\n",
       "      <td>23:00:00</td>\n",
       "      <td>202.01</td>\n",
       "      <td>2.42</td>\n",
       "      <td>768.95</td>\n",
       "      <td>9.23</td>\n",
       "      <td>4853.62</td>\n",
       "      <td>58.24</td>\n",
       "    </tr>\n",
       "    <tr>\n",
       "      <th>1</th>\n",
       "      <td>Kroo cafe, французский ресторан</td>\n",
       "      <td>4.3</td>\n",
       "      <td>5348553838944141</td>\n",
       "      <td>французский ресторан</td>\n",
       "      <td>Kroo cafe</td>\n",
       "      <td>5348660212708114</td>\n",
       "      <td>27</td>\n",
       "      <td>Суворовский проспект</td>\n",
       "      <td>Суворовский проспект, 27</td>\n",
       "      <td>Санкт-Петербург</td>\n",
       "      <td>...</td>\n",
       "      <td>09:30:00</td>\n",
       "      <td>00:00:00</td>\n",
       "      <td>10:00:00</td>\n",
       "      <td>23:00:00</td>\n",
       "      <td>397.89</td>\n",
       "      <td>4.77</td>\n",
       "      <td>584.16</td>\n",
       "      <td>7.01</td>\n",
       "      <td>4870.39</td>\n",
       "      <td>58.44</td>\n",
       "    </tr>\n",
       "    <tr>\n",
       "      <th>2</th>\n",
       "      <td>Osteria Betulla, остерия</td>\n",
       "      <td>4.3</td>\n",
       "      <td>70000001050842811</td>\n",
       "      <td>остерия</td>\n",
       "      <td>Osteria Betulla</td>\n",
       "      <td>5348660212708348</td>\n",
       "      <td>29</td>\n",
       "      <td>Греческий проспект</td>\n",
       "      <td>Греческий проспект, 29</td>\n",
       "      <td>Санкт-Петербург</td>\n",
       "      <td>...</td>\n",
       "      <td>12:00:00</td>\n",
       "      <td>23:30:00</td>\n",
       "      <td>12:00:00</td>\n",
       "      <td>23:30:00</td>\n",
       "      <td>184.60</td>\n",
       "      <td>2.22</td>\n",
       "      <td>792.92</td>\n",
       "      <td>9.52</td>\n",
       "      <td>4850.67</td>\n",
       "      <td>58.21</td>\n",
       "    </tr>\n",
       "    <tr>\n",
       "      <th>3</th>\n",
       "      <td>Feromon Group, лаундж-бар</td>\n",
       "      <td>4.7</td>\n",
       "      <td>70000001066331086</td>\n",
       "      <td>лаундж-бар</td>\n",
       "      <td>Feromon Group</td>\n",
       "      <td>5348660212794938</td>\n",
       "      <td>4а</td>\n",
       "      <td>8-я Советская улица</td>\n",
       "      <td>8-я Советская улица, 4а</td>\n",
       "      <td>Санкт-Петербург</td>\n",
       "      <td>...</td>\n",
       "      <td>10:00:00</td>\n",
       "      <td>06:00:00</td>\n",
       "      <td>10:00:00</td>\n",
       "      <td>06:00:00</td>\n",
       "      <td>250.46</td>\n",
       "      <td>3.01</td>\n",
       "      <td>775.66</td>\n",
       "      <td>9.31</td>\n",
       "      <td>4807.53</td>\n",
       "      <td>57.69</td>\n",
       "    </tr>\n",
       "    <tr>\n",
       "      <th>4</th>\n",
       "      <td>Степнов, ресторан</td>\n",
       "      <td>4.6</td>\n",
       "      <td>5348552840330064</td>\n",
       "      <td>ресторан</td>\n",
       "      <td>Степнов</td>\n",
       "      <td>5348660212708111</td>\n",
       "      <td>25</td>\n",
       "      <td>Суворовский проспект</td>\n",
       "      <td>Суворовский проспект, 25</td>\n",
       "      <td>Санкт-Петербург</td>\n",
       "      <td>...</td>\n",
       "      <td>12:00:00</td>\n",
       "      <td>23:00:00</td>\n",
       "      <td>12:00:00</td>\n",
       "      <td>23:00:00</td>\n",
       "      <td>416.80</td>\n",
       "      <td>5.00</td>\n",
       "      <td>617.63</td>\n",
       "      <td>7.41</td>\n",
       "      <td>4821.52</td>\n",
       "      <td>57.86</td>\n",
       "    </tr>\n",
       "  </tbody>\n",
       "</table>\n",
       "<p>5 rows × 58 columns</p>\n",
       "</div>"
      ],
      "text/plain": [
       "                              name  reviews_general_rating                 id  \\\n",
       "0                Harbor, ресторан                      4.6  70000001062703679   \n",
       "1  Kroo cafe, французский ресторан                     4.3   5348553838944141   \n",
       "2         Osteria Betulla, остерия                     4.3  70000001050842811   \n",
       "3        Feromon Group, лаундж-бар                     4.7  70000001066331086   \n",
       "4                Степнов, ресторан                     4.6   5348552840330064   \n",
       "\n",
       "      name_ex_extension  name_ex_primary  address_building_id  \\\n",
       "0             ресторан            Harbor     5348660212708350   \n",
       "1  французский ресторан        Kroo cafe     5348660212708114   \n",
       "2               остерия  Osteria Betulla     5348660212708348   \n",
       "3            лаундж-бар    Feromon Group     5348660212794938   \n",
       "4              ресторан          Степнов     5348660212708111   \n",
       "\n",
       "  address_components_0_number address_components_0_street  \\\n",
       "0                           3         9-я Советская улица   \n",
       "1                          27        Суворовский проспект   \n",
       "2                          29          Греческий проспект   \n",
       "3                          4а         8-я Советская улица   \n",
       "4                          25        Суворовский проспект   \n",
       "\n",
       "               address_name   adm_div_1_name  ...  Sat_from    Sat_to  \\\n",
       "0    9-я Советская улица, 3  Санкт-Петербург  ...  07:30:00  23:00:00   \n",
       "1  Суворовский проспект, 27  Санкт-Петербург  ...  09:30:00  00:00:00   \n",
       "2    Греческий проспект, 29  Санкт-Петербург  ...  12:00:00  23:30:00   \n",
       "3   8-я Советская улица, 4а  Санкт-Петербург  ...  10:00:00  06:00:00   \n",
       "4  Суворовский проспект, 25  Санкт-Петербург  ...  12:00:00  23:00:00   \n",
       "\n",
       "   Sun_from    Sun_to  office_1_dist  office_1_time  office_2_dist  \\\n",
       "0  07:30:00  23:00:00         202.01           2.42         768.95   \n",
       "1  10:00:00  23:00:00         397.89           4.77         584.16   \n",
       "2  12:00:00  23:30:00         184.60           2.22         792.92   \n",
       "3  10:00:00  06:00:00         250.46           3.01         775.66   \n",
       "4  12:00:00  23:00:00         416.80           5.00         617.63   \n",
       "\n",
       "   office_2_time office_3_dist office_3_time  \n",
       "0           9.23       4853.62         58.24  \n",
       "1           7.01       4870.39         58.44  \n",
       "2           9.52       4850.67         58.21  \n",
       "3           9.31       4807.53         57.69  \n",
       "4           7.41       4821.52         57.86  \n",
       "\n",
       "[5 rows x 58 columns]"
      ]
     },
     "execution_count": 173,
     "metadata": {},
     "output_type": "execute_result"
    }
   ],
   "source": [
    "df_processed.head()"
   ]
  },
  {
   "cell_type": "markdown",
   "metadata": {},
   "source": [
    "#### Добавляем дополнительные колонки для основных видов кухни и основных ограничений"
   ]
  },
  {
   "cell_type": "code",
   "execution_count": 21,
   "metadata": {},
   "outputs": [],
   "source": [
    "cuisines = {\n",
    "    \"белорусская кухня\": [\"Европейская кухня\", \"Русская кухня\"],\n",
    "    \"средиземноморская кухня\": [\"Европейская кухня\"],\n",
    "    \"сербская кухня\": [\"Европейская кухня\"],\n",
    "    \"авторская кухня\": [],\n",
    "    \"кавказская кухня\": [\"Европейская кухня\", \"Грузинская кухня\"],\n",
    "    \"арабская кухня\": [\"Паназиатская кухня\"],\n",
    "    \"гавайская кухня\": [\"Американская кухня\"],\n",
    "    \"карельская кухня\": [\"Русская кухня\", \"Европейская кухня\"],\n",
    "    \"еврейская кухня\": [\"Европейская кухня\", \"Русская кухня\"],\n",
    "    \"европейская кухня\": [\"Европейская кухня\"],\n",
    "    \"паназиатская кухня\": [\"Паназиатская кухня\"],\n",
    "    \"вьетнамская кухня\": [\"Паназиатская кухня\"],\n",
    "    \"итальянская кухня\": [\"Европейская кухня\"],\n",
    "    \"испанская кухня\": [\"Европейская кухня\"],\n",
    "    \"турецкая кухня\": [\"Европейская кухня\", \"Паназиатская кухня\"],\n",
    "    \"азиатская кухня\": [\"Паназиатская кухня\"],\n",
    "    \"армянская кухня\": [\"Европейская кухня\", \"Грузинская кухня\"],\n",
    "    \"индийская кухня\": [\"Паназиатская кухня\"],\n",
    "    \"американская кухня\": [\"Американская кухня\"],\n",
    "    \"азербайджанская кухня\": [\"Европейская кухня\", \"Грузинская кухня\"],\n",
    "    \"чешская кухня\": [\"Европейская кухня\"],\n",
    "    \"грузинская кухня\": [\"Европейская кухня\", \"Грузинская кухня\"],\n",
    "    \"халяльная кухня\": [\"Паназиатская кухня\"],\n",
    "    \"французская кухня\": [\"Европейская кухня\"],\n",
    "    \"восточная кухня\": [\"Паназиатская кухня\"],\n",
    "    \"израильская кухня\": [\"Европейская кухня\"],\n",
    "    \"рыбная кухня\": [\"Европейская кухня\", \"Русская кухня\"],\n",
    "    \"мексиканская кухня\": [\"Американская кухня\"],\n",
    "    \"веганская кухня\": [],\n",
    "    \"русская кухня\": [\"Русская кухня\", \"Европейская кухня\"],\n",
    "    \"тайская кухня\": [\"Паназиатская кухня\"],\n",
    "    \"корейская кухня\": [\"Паназиатская кухня\"],\n",
    "    \"вегетарианская кухня\": [],\n",
    "    \"дагестанская кухня\": [\"Грузинская кухня\"],\n",
    "    \"домашняя кухня\": [],\n",
    "    \"греческая кухня\": [\"Европейская кухня\"],\n",
    "    \"немецкая кухня\": [\"Европейская кухня\"],\n",
    "    \"украинская кухня\": [\"Европейская кухня\", \"Русская кухня\"],\n",
    "    \"китайская кухня\": [\"Паназиатская кухня\"],\n",
    "    \"ливанская кухня\": [\"Паназиатская кухня\"],\n",
    "    \"узбекская кухня\": [\"Паназиатская кухня\"],\n",
    "    \"японская кухня\": [\"Паназиатская кухня\"]\n",
    "}\n",
    "\n",
    "main_cuisines = ['Европейская кухня', 'Паназиатская кухня', 'Русская кухня', 'Американская кухня', 'Грузинская кухня']"
   ]
  },
  {
   "cell_type": "code",
   "execution_count": 22,
   "metadata": {},
   "outputs": [],
   "source": [
    "df_processed = pd.read_csv('data/data_restaurants_processed2.csv');"
   ]
  },
  {
   "cell_type": "code",
   "execution_count": 23,
   "metadata": {},
   "outputs": [],
   "source": [
    "def check_cuisines(cuisines_str):\n",
    "    if pd.isna(cuisines_str):\n",
    "        return {cuisine: False for cuisine in main_cuisines}\n",
    "    \n",
    "    result = {cuisine: False for cuisine in main_cuisines}  \n",
    "    cuisines_list = str(cuisines_str).split('; ')  \n",
    "    \n",
    "    for cuisine in cuisines_list:\n",
    "        for main_cuisine in main_cuisines:\n",
    "            if main_cuisine in cuisines[cuisine.lower()]:  \n",
    "                result[main_cuisine] = True\n",
    "    return result\n",
    "\n",
    "df_processed[main_cuisines] = df_processed['Cuisine'].apply(check_cuisines).apply(pd.Series)"
   ]
  },
  {
   "cell_type": "code",
   "execution_count": 24,
   "metadata": {},
   "outputs": [],
   "source": [
    "def check_postnoe_menu(cuisine_str, dishes_str, check_str):\n",
    "    if pd.notna(cuisine_str) and check_str in str(cuisine_str).lower():\n",
    "        return True\n",
    "    if pd.notna(dishes_str) and check_str in str(dishes_str).lower():\n",
    "        return True\n",
    "    return False\n",
    "\n",
    "df_processed['Постное меню'] = df_processed.apply(lambda row: check_postnoe_menu(row['Cuisine'], row['Dishes'], \"постное меню\"), axis=1)\n",
    "df_processed['Вегетарианское меню'] = df_processed.apply(lambda row: check_postnoe_menu(row['Cuisine'], row['Dishes'], (\"веган\" or \"вегет\")), axis=1)"
   ]
  },
  {
   "cell_type": "code",
   "execution_count": 32,
   "metadata": {},
   "outputs": [
    {
     "data": {
      "text/html": [
       "<div>\n",
       "<style scoped>\n",
       "    .dataframe tbody tr th:only-of-type {\n",
       "        vertical-align: middle;\n",
       "    }\n",
       "\n",
       "    .dataframe tbody tr th {\n",
       "        vertical-align: top;\n",
       "    }\n",
       "\n",
       "    .dataframe thead th {\n",
       "        text-align: right;\n",
       "    }\n",
       "</style>\n",
       "<table border=\"1\" class=\"dataframe\">\n",
       "  <thead>\n",
       "    <tr style=\"text-align: right;\">\n",
       "      <th></th>\n",
       "      <th>Европейская кухня</th>\n",
       "      <th>Паназиатская кухня</th>\n",
       "      <th>Русская кухня</th>\n",
       "      <th>Американская кухня</th>\n",
       "      <th>Грузинская кухня</th>\n",
       "      <th>Постное меню</th>\n",
       "      <th>Вегетарианское меню</th>\n",
       "      <th>Cuisine</th>\n",
       "    </tr>\n",
       "  </thead>\n",
       "  <tbody>\n",
       "    <tr>\n",
       "      <th>0</th>\n",
       "      <td>True</td>\n",
       "      <td>False</td>\n",
       "      <td>False</td>\n",
       "      <td>True</td>\n",
       "      <td>False</td>\n",
       "      <td>False</td>\n",
       "      <td>False</td>\n",
       "      <td>Американская кухня; Европейская кухня</td>\n",
       "    </tr>\n",
       "    <tr>\n",
       "      <th>1</th>\n",
       "      <td>True</td>\n",
       "      <td>False</td>\n",
       "      <td>False</td>\n",
       "      <td>False</td>\n",
       "      <td>False</td>\n",
       "      <td>True</td>\n",
       "      <td>False</td>\n",
       "      <td>Европейская кухня; Французская кухня</td>\n",
       "    </tr>\n",
       "    <tr>\n",
       "      <th>2</th>\n",
       "      <td>True</td>\n",
       "      <td>False</td>\n",
       "      <td>False</td>\n",
       "      <td>False</td>\n",
       "      <td>False</td>\n",
       "      <td>False</td>\n",
       "      <td>False</td>\n",
       "      <td>Авторская кухня; Итальянская кухня</td>\n",
       "    </tr>\n",
       "    <tr>\n",
       "      <th>3</th>\n",
       "      <td>True</td>\n",
       "      <td>True</td>\n",
       "      <td>False</td>\n",
       "      <td>False</td>\n",
       "      <td>False</td>\n",
       "      <td>False</td>\n",
       "      <td>False</td>\n",
       "      <td>Европейская кухня; Паназиатская кухня; Итальян...</td>\n",
       "    </tr>\n",
       "    <tr>\n",
       "      <th>4</th>\n",
       "      <td>True</td>\n",
       "      <td>False</td>\n",
       "      <td>True</td>\n",
       "      <td>False</td>\n",
       "      <td>False</td>\n",
       "      <td>True</td>\n",
       "      <td>False</td>\n",
       "      <td>Европейская кухня; Русская кухня; Авторская кухня</td>\n",
       "    </tr>\n",
       "  </tbody>\n",
       "</table>\n",
       "</div>"
      ],
      "text/plain": [
       "   Европейская кухня  Паназиатская кухня  Русская кухня  Американская кухня  \\\n",
       "0               True               False          False                True   \n",
       "1               True               False          False               False   \n",
       "2               True               False          False               False   \n",
       "3               True                True          False               False   \n",
       "4               True               False           True               False   \n",
       "\n",
       "   Грузинская кухня  Постное меню  Вегетарианское меню  \\\n",
       "0             False         False                False   \n",
       "1             False          True                False   \n",
       "2             False         False                False   \n",
       "3             False         False                False   \n",
       "4             False          True                False   \n",
       "\n",
       "                                             Cuisine  \n",
       "0              Американская кухня; Европейская кухня  \n",
       "1               Европейская кухня; Французская кухня  \n",
       "2                 Авторская кухня; Итальянская кухня  \n",
       "3  Европейская кухня; Паназиатская кухня; Итальян...  \n",
       "4  Европейская кухня; Русская кухня; Авторская кухня  "
      ]
     },
     "execution_count": 32,
     "metadata": {},
     "output_type": "execute_result"
    }
   ],
   "source": [
    "df_processed[main_cuisines + ['Постное меню', 'Вегетарианское меню', 'Cuisine']].head()"
   ]
  },
  {
   "cell_type": "code",
   "execution_count": 31,
   "metadata": {},
   "outputs": [],
   "source": [
    "df_processed.to_csv('data/data_restaurants_processed3.csv', index=False)"
   ]
  },
  {
   "cell_type": "code",
   "execution_count": null,
   "metadata": {},
   "outputs": [],
   "source": []
  }
 ],
 "metadata": {
  "colab": {
   "provenance": []
  },
  "kernelspec": {
   "display_name": "Python 3 (ipykernel)",
   "language": "python",
   "name": "python3"
  },
  "language_info": {
   "codemirror_mode": {
    "name": "ipython",
    "version": 3
   },
   "file_extension": ".py",
   "mimetype": "text/x-python",
   "name": "python",
   "nbconvert_exporter": "python",
   "pygments_lexer": "ipython3",
   "version": "3.11.7"
  }
 },
 "nbformat": 4,
 "nbformat_minor": 4
}
